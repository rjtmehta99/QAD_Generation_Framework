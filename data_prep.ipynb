{
 "cells": [
  {
   "cell_type": "markdown",
   "metadata": {},
   "source": [
    "# Data Preparation "
   ]
  },
  {
   "cell_type": "code",
   "execution_count": 1,
   "metadata": {},
   "outputs": [
    {
     "name": "stderr",
     "output_type": "stream",
     "text": [
      "2023-08-30 18:27:15.958452: I tensorflow/core/platform/cpu_feature_guard.cc:182] This TensorFlow binary is optimized to use available CPU instructions in performance-critical operations.\n",
      "To enable the following instructions: AVX2 FMA, in other operations, rebuild TensorFlow with the appropriate compiler flags.\n",
      "2023-08-30 18:27:16.552355: W tensorflow/compiler/tf2tensorrt/utils/py_utils.cc:38] TF-TRT Warning: Could not find TensorRT\n"
     ]
    }
   ],
   "source": [
    "import helper\n",
    "import pandas as pd\n",
    "from pprint import pprint\n",
    "from tqdm.auto import tqdm\n",
    "from haystack.nodes import QuestionGenerator, BM25Retriever, FARMReader\n",
    "from haystack.document_stores import ElasticsearchDocumentStore\n",
    "from haystack.pipelines import RetrieverQuestionGenerationPipeline, QuestionAnswerGenerationPipeline\n",
    "from haystack.utils import print_questions, export_answers_to_csv"
   ]
  },
  {
   "cell_type": "code",
   "execution_count": 2,
   "metadata": {},
   "outputs": [],
   "source": [
    "# Openstax Biology\n",
    "topic = 'test'\n",
    "#docs = helper.openstax_to_doc(path='data/openstax_biology_sample.csv')\n",
    "docs = helper.csv_to_doc(path='data/openstax_biology_sample.csv', title='summary_heading', \n",
    "                        subject='subject', content='summary_text')"
   ]
  },
  {
   "cell_type": "code",
   "execution_count": 3,
   "metadata": {},
   "outputs": [],
   "source": [
    "doc_store = helper.add_to_docstore(docs, index=topic, delete_docs=True)"
   ]
  },
  {
   "cell_type": "code",
   "execution_count": 4,
   "metadata": {},
   "outputs": [
    {
     "name": "stderr",
     "output_type": "stream",
     "text": [
      "/home/rjt/miniconda3/lib/python3.11/site-packages/transformers/convert_slow_tokenizer.py:470: UserWarning: The sentencepiece tokenizer that you are converting to a fast tokenizer uses the byte fallback option which is not implemented in the fast tokenizers. In practice this means that the fast version of the tokenizer can produce unknown tokens whereas the sentencepiece version would have converted these unknown tokens into a sequence of byte tokens matching the original piece of text.\n",
      "  warnings.warn(\n",
      "Classifying documents: 100%|██████████| 10/10 [00:02<00:00,  4.10it/s]\n"
     ]
    }
   ],
   "source": [
    "doc_store = helper.classify_docs(labels=['physics', 'chemistry', 'biology'],\n",
    "                                doc_store=doc_store, index=topic)"
   ]
  },
  {
   "cell_type": "code",
   "execution_count": 5,
   "metadata": {},
   "outputs": [
    {
     "name": "stderr",
     "output_type": "stream",
     "text": [
      "/home/rjt/miniconda3/lib/python3.11/site-packages/torch/_utils.py:776: UserWarning: TypedStorage is deprecated. It will be removed in the future and UntypedStorage will be the only storage class. This should only matter to you if you are using storages directly.  To access UntypedStorage directly, use tensor.untyped_storage() instead of tensor.storage()\n",
      "  return self.fget.__get__(instance, owner)()\n",
      "You are using the legacy behaviour of the <class 'transformers.models.t5.tokenization_t5.T5Tokenizer'>. This means that tokens that come after special tokens will not be properly handled. We recommend you to read the related pull request available at https://github.com/huggingface/transformers/pull/24565\n",
      "Using sep_token, but it is not set yet.\n"
     ]
    }
   ],
   "source": [
    "question_generator = QuestionGenerator(model_name_or_path='valhalla/t5-base-e2e-qg',\n",
    "                                       max_length=420, split_length=75, \n",
    "                                       split_overlap=20, use_gpu=True)"
   ]
  },
  {
   "cell_type": "code",
   "execution_count": 6,
   "metadata": {},
   "outputs": [],
   "source": [
    "#reader = FARMReader(model_name_or_path=\"deepset/roberta-base-squad2\", \n",
    "#                    use_gpu=True, confidence_threshold=0.70)\n",
    "reader = FARMReader(model_name_or_path=\"deepset/roberta-base-squad2\", \n",
    "                    top_k=1, use_gpu=True)"
   ]
  },
  {
   "cell_type": "code",
   "execution_count": 7,
   "metadata": {},
   "outputs": [],
   "source": [
    "pipeline = QuestionAnswerGenerationPipeline(question_generator, reader)"
   ]
  },
  {
   "cell_type": "code",
   "execution_count": 8,
   "metadata": {},
   "outputs": [
    {
     "data": {
      "text/plain": [
       "[<Document: {'content': 'Biology is the science that studies living organisms and their interactions with one another and their environments. Science attempts to describe and understand the nature of the universe in whole or in part by rational means. Science has many fields. Those fields related to the physical world and its phenomena are natural sciences.', 'content_type': 'text', 'score': None, 'meta': {'subject': 'biology', 'topic': ' The Science of Biology', 'classification': {'score': 0.9655949473381042, 'details': {'chemistry': 0.010395056568086147, 'biology': 0.9655949473381042, 'physics': 0.024009989574551582}, 'label': 'biology'}}, 'id_hash_keys': ['content'], 'embedding': None, 'id': 'd6659290230e3cad35f25fd7af40139f'}>,\n",
       " <Document: {'content': 'Biology is the science of life. All living organisms share several key properties such as order, sensitivity or response to stimuli, reproduction, growth and development, regulation, homeostasis, and energy processing. Living things are highly organized parts of a hierarchy that includes atoms, molecules, organelles, cells, tissues, organs, and organ systems. In turn, biologists group organisms as populations, communities, ecosystems, and the biosphere. The great diversity of life today evolved from less-diverse ancestral organisms over billions of years. We can use a phylogenetic tree to show evolutionary relationships among organisms.', 'content_type': 'text', 'score': None, 'meta': {'subject': 'biology', 'topic': ' Themes and Concepts of Biology', 'classification': {'score': 0.9662871360778809, 'details': {'chemistry': 0.019800713285803795, 'biology': 0.9662871360778809, 'physics': 0.013912155292928219}, 'label': 'biology'}}, 'id_hash_keys': ['content'], 'embedding': None, 'id': 'c10431ff0877a9ce4d006c2f66566d99'}>,\n",
       " <Document: {'content': 'Carbohydrates are a group of macromolecules that are a vital energy source for the cell and provide structural support to plant cells, fungi, and all of the arthropods that include lobsters, crabs, shrimp, insects, and spiders. Scientists classify carbohydrates as monosaccharides, disaccharides, and polysaccharides depending on the number of monomers in the molecule. Monosaccharides are linked by glycosidic bonds that form as a result of dehydration reactions, forming disaccharides and polysaccharides with eliminating a water molecule for each bond formed. Glucose, galactose, and fructose are common monosaccharides; whereas, common disaccharides include lactose, maltose, and sucrose. Starch and glycogen, examples of polysaccharides, are the storage forms of glucose in plants and animals, respectively. The long polysaccharide chains may be branched or unbranched. Cellulose is an example of an unbranched polysaccharide; whereas, amylopectin, a constituent of starch, is a highly branched molecule. Glucose storage, in the form of polymers like starch of glycogen, makes it slightly less accessible for metabolism; however, this prevents it from leaking out of the cell or creating a high osmotic pressure that could cause the cell to uptake excessive water.', 'content_type': 'text', 'score': None, 'meta': {'subject': 'biology', 'topic': ' Carbohydrates', 'classification': {'score': 0.8537930250167847, 'details': {'chemistry': 0.11807448416948318, 'biology': 0.8537930250167847, 'physics': 0.028132475912570953}, 'label': 'biology'}}, 'id_hash_keys': ['content'], 'embedding': None, 'id': '8ec45648b32d4b37d1442359918e3d10'}>,\n",
       " <Document: {'content': \"Lipids are a class of macromolecules that are nonpolar and hydrophobic in nature. Major types include fats and oils, waxes, phospholipids, and steroids. Fats are a stored form of energy and are also known as triacylglycerols or triglycerides. Fats are comprised of fatty acids and either glycerol or sphingosine. Fatty acids may be unsaturated or saturated, depending on the presence or absence of double bonds in the hydrocarbon chain. If only single bonds are present, they are saturated fatty acids. Unsaturated fatty acids may have one or more double bonds in the hydrocarbon chain. Phospholipids comprise the membrane's matrix. They have a glycerol or sphingosine backbone to which two fatty acid chains and a phosphate-containing group are attached. Steroids are another class of lipids. Their basic structure has four fused carbon rings. Cholesterol is a type of steroid and is an important constituent of the plasma membrane, where it helps to maintain the membrane's fluid nature. It is also the precursor of steroid hormones such as testosterone.\", 'content_type': 'text', 'score': None, 'meta': {'subject': 'biology', 'topic': ' Lipids', 'classification': {'score': 0.5617516040802002, 'details': {'chemistry': 0.42405247688293457, 'biology': 0.5617516040802002, 'physics': 0.014195919968187809}, 'label': 'biology'}}, 'id_hash_keys': ['content'], 'embedding': None, 'id': 'dc57c73ce6ec10136ef4a8754ccaaf6'}>,\n",
       " <Document: {'content': 'Proteins are a class of macromolecules that perform a diverse range of functions for the cell. They help in metabolism by acting as enzymes, carriers, or hormones, and provide structural support. The building blocks of proteins (monomers) are amino acids. Each amino acid has a central carbon that bonds to an amino group, a carboxyl group, a hydrogen atom, and an R group or side chain. There are 20 commonly occurring amino acids, each of which differs in the R group. A peptide bond links each amino acid to its neighbors. A long amino acid chain is a polypeptide.', 'content_type': 'text', 'score': None, 'meta': {'subject': 'biology', 'topic': ' Proteins', 'classification': {'score': 0.5492972731590271, 'details': {'chemistry': 0.4319708049297333, 'biology': 0.5492972731590271, 'physics': 0.018731897696852684}, 'label': 'biology'}}, 'id_hash_keys': ['content'], 'embedding': None, 'id': 'e2185342706fde687b1a2d0f7a3349ac'}>,\n",
       " <Document: {'content': \"Nucleic acids are molecules comprised of nucleotides that direct cellular activities such as cell division and protein synthesis. Pentose sugar, a nitrogenous base, and a phosphate group comprise each nucleotide. There are two types of nucleic acids: DNA and RNA. DNA carries the cell's genetic blueprint and passes it on from parents to offspring (in the form of chromosomes). It has a double-helical structure with the two strands running in opposite directions, connected by hydrogen bonds, and complementary to each other. RNA is a single-stranded polymer composed of linked nucleotides made up of a pentose sugar (ribose), a nitrogenous base, and a phosphate group. RNA is involved in protein synthesis and its regulation. Messenger RNA (mRNA) copies from the DNA, exports itself from the nucleus to the cytoplasm, and contains information for constructing proteins. Ribosomal RNA (rRNA) is a part of the ribosomes at the site of protein synthesis; whereas, transfer RNA (tRNA) carries the amino acid to the site of protein synthesis. The microRNA regulates using mRNA for protein synthesis.\", 'content_type': 'text', 'score': None, 'meta': {'subject': 'biology', 'topic': ' Nucleic Acids', 'classification': {'score': 0.8374455571174622, 'details': {'chemistry': 0.1594080626964569, 'biology': 0.8374455571174622, 'physics': 0.0031464078929275274}, 'label': 'biology'}}, 'id_hash_keys': ['content'], 'embedding': None, 'id': '6cd7d16f891c686abe236a0190b7bb37'}>,\n",
       " <Document: {'content': 'A cell is the smallest unit of life. Most cells are so tiny that we cannot see them with the naked eye. Therefore, scientists use microscopes to study cells. Electron microscopes provide higher magnification, higher resolution, and more detail than light microscopes. The unified cell theory states that one or more cells comprise all organisms, the cell is the basic unit of life, and new cells arise from existing cells.', 'content_type': 'text', 'score': None, 'meta': {'subject': 'biology', 'topic': ' Studying Cells', 'classification': {'score': 0.8792482614517212, 'details': {'chemistry': 0.013465984724462032, 'biology': 0.8792482614517212, 'physics': 0.1072857603430748}, 'label': 'biology'}}, 'id_hash_keys': ['content'], 'embedding': None, 'id': '4b436165b226281b18d2252d74eb228a'}>,\n",
       " <Document: {'content': 'Prokaryotes are single-celled organisms of the domains Bacteria and Archaea. All prokaryotes have plasma membranes, cytoplasm, ribosomes, and DNA that is not membrane-bound. Most have peptidoglycan cell walls and many have polysaccharide capsules. Prokaryotic cells range in diameter from 0.1 to 5.0 μm.', 'content_type': 'text', 'score': None, 'meta': {'subject': 'biology', 'topic': ' Prokaryotic Cells', 'classification': {'score': 0.9836196899414062, 'details': {'chemistry': 0.011865666136145592, 'biology': 0.9836196899414062, 'physics': 0.004514686297625303}, 'label': 'biology'}}, 'id_hash_keys': ['content'], 'embedding': None, 'id': '4cb47f21ef24fedbf4b99eda31f81ceb'}>,\n",
       " <Document: {'content': 'Like a prokaryotic cell, a eukaryotic cell has a plasma membrane, cytoplasm, and ribosomes, but a eukaryotic cell is typically larger than a prokaryotic cell, has a true nucleus (meaning a membrane surrounds its DNA), and has other membrane-bound organelles that allow for compartmentalizing functions. The plasma membrane is a phospholipid bilayer embedded with proteins. The nucleus’s nucleolus is the site of ribosome assembly. We find ribosomes either in the cytoplasm or attached to the cytoplasmic side of the plasma membrane or endoplasmic reticulum. They perform protein synthesis. Mitochondria participate in cellular respiration. They are responsible for the majority of ATP produced in the cell. Peroxisomes hydrolyze fatty acids, amino acids, and some toxins. Vesicles and vacuoles are storage and transport compartments. In plant cells, vacuoles also help break down macromolecules.', 'content_type': 'text', 'score': None, 'meta': {'subject': 'biology', 'topic': ' Eukaryotic Cells', 'classification': {'score': 0.9603505730628967, 'details': {'chemistry': 0.030818302184343338, 'biology': 0.9603505730628967, 'physics': 0.008831144310534}, 'label': 'biology'}}, 'id_hash_keys': ['content'], 'embedding': None, 'id': '1e25c41058f29c8f85d95bee213c0c3b'}>]"
      ]
     },
     "execution_count": 8,
     "metadata": {},
     "output_type": "execute_result"
    }
   ],
   "source": [
    "#docs = doc_store.get_all_documents(filters={'classification': ['l']})\n",
    "#docs = doc_store.get_all_documents()\n",
    "#docs = doc_store.get_all_documents(filters={'classification': {'label': ['loda']}})\n",
    "#filterx = {\"classification\": {'score': 0.9655949473381042}}\n",
    "filterx = {\"classification.label\": \"biology\"} \n",
    "#filterx = {'topic': ' Synthesis of Biological Macromolecules'}\n",
    "d = doc_store.get_all_documents(filters=filterx)\n",
    "#x = doc_store.query(query=filter)\n",
    "d"
   ]
  },
  {
   "cell_type": "code",
   "execution_count": 110,
   "metadata": {},
   "outputs": [
    {
     "data": {
      "text/plain": [
       "[<Document: {'content': 'Biology is the science that studies living organisms and their interactions with one another and their environments. Science attempts to describe and understand the nature of the universe in whole or in part by rational means. Science has many fields. Those fields related to the physical world and its phenomena are natural sciences.', 'content_type': 'text', 'score': None, 'meta': {'subject': 'biology', 'topic': ' The Science of Biology', 'classification': {'score': 0.9655949473381042, 'details': {'chemistry': 0.010395056568086147, 'biology': 0.9655949473381042, 'physics': 0.024009989574551582}, 'label': 'biology'}}, 'id_hash_keys': ['content'], 'embedding': None, 'id': 'd6659290230e3cad35f25fd7af40139f'}>,\n",
       " <Document: {'content': 'Biology is the science of life. All living organisms share several key properties such as order, sensitivity or response to stimuli, reproduction, growth and development, regulation, homeostasis, and energy processing. Living things are highly organized parts of a hierarchy that includes atoms, molecules, organelles, cells, tissues, organs, and organ systems. In turn, biologists group organisms as populations, communities, ecosystems, and the biosphere. The great diversity of life today evolved from less-diverse ancestral organisms over billions of years. We can use a phylogenetic tree to show evolutionary relationships among organisms.', 'content_type': 'text', 'score': None, 'meta': {'subject': 'biology', 'topic': ' Themes and Concepts of Biology', 'classification': {'score': 0.9662871360778809, 'details': {'chemistry': 0.019800713285803795, 'biology': 0.9662871360778809, 'physics': 0.013912155292928219}, 'label': 'biology'}}, 'id_hash_keys': ['content'], 'embedding': None, 'id': 'c10431ff0877a9ce4d006c2f66566d99'}>,\n",
       " <Document: {'content': 'Proteins, carbohydrates, nucleic acids, and lipids are the four major classes of biological macromolecules—large molecules necessary for life that are built from smaller organic molecules. Macromolecules are comprised of single units scientists call monomers that are joined by covalent bonds to form larger polymers. The polymer is more than the sum of its parts: it acquires new characteristics, and leads to an osmotic pressure that is much lower than that formed by its ingredients. This is an important advantage in maintaining cellular osmotic conditions. A monomer joins with another monomer with water molecule release, leading to a covalent bond forming. Scientists call these dehydration or condensation reactions. When polymers break down into smaller units (monomers), they use a water molecule for each bond broken by these reactions. Such reactions are hydrolysis reactions. Dehydration and hydrolysis reactions are similar for all macromolecules, but each monomer and polymer reaction is specific to its class. Dehydration reactions typically require an investment of energy for new bond formation, while hydrolysis reactions typically release energy by breaking bonds.', 'content_type': 'text', 'score': None, 'meta': {'subject': 'biology', 'topic': ' Synthesis of Biological Macromolecules', 'classification': {'score': 0.783670961856842, 'details': {'chemistry': 0.783670961856842, 'biology': 0.1982022523880005, 'physics': 0.018126806244254112}, 'label': 'chemistry'}}, 'id_hash_keys': ['content'], 'embedding': None, 'id': 'd859e56888cd56b3f72ddf8a5fbbd15e'}>,\n",
       " <Document: {'content': 'Carbohydrates are a group of macromolecules that are a vital energy source for the cell and provide structural support to plant cells, fungi, and all of the arthropods that include lobsters, crabs, shrimp, insects, and spiders. Scientists classify carbohydrates as monosaccharides, disaccharides, and polysaccharides depending on the number of monomers in the molecule. Monosaccharides are linked by glycosidic bonds that form as a result of dehydration reactions, forming disaccharides and polysaccharides with eliminating a water molecule for each bond formed. Glucose, galactose, and fructose are common monosaccharides; whereas, common disaccharides include lactose, maltose, and sucrose. Starch and glycogen, examples of polysaccharides, are the storage forms of glucose in plants and animals, respectively. The long polysaccharide chains may be branched or unbranched. Cellulose is an example of an unbranched polysaccharide; whereas, amylopectin, a constituent of starch, is a highly branched molecule. Glucose storage, in the form of polymers like starch of glycogen, makes it slightly less accessible for metabolism; however, this prevents it from leaking out of the cell or creating a high osmotic pressure that could cause the cell to uptake excessive water.', 'content_type': 'text', 'score': None, 'meta': {'subject': 'biology', 'topic': ' Carbohydrates', 'classification': {'score': 0.8537930250167847, 'details': {'chemistry': 0.11807448416948318, 'biology': 0.8537930250167847, 'physics': 0.028132475912570953}, 'label': 'biology'}}, 'id_hash_keys': ['content'], 'embedding': None, 'id': '8ec45648b32d4b37d1442359918e3d10'}>,\n",
       " <Document: {'content': \"Lipids are a class of macromolecules that are nonpolar and hydrophobic in nature. Major types include fats and oils, waxes, phospholipids, and steroids. Fats are a stored form of energy and are also known as triacylglycerols or triglycerides. Fats are comprised of fatty acids and either glycerol or sphingosine. Fatty acids may be unsaturated or saturated, depending on the presence or absence of double bonds in the hydrocarbon chain. If only single bonds are present, they are saturated fatty acids. Unsaturated fatty acids may have one or more double bonds in the hydrocarbon chain. Phospholipids comprise the membrane's matrix. They have a glycerol or sphingosine backbone to which two fatty acid chains and a phosphate-containing group are attached. Steroids are another class of lipids. Their basic structure has four fused carbon rings. Cholesterol is a type of steroid and is an important constituent of the plasma membrane, where it helps to maintain the membrane's fluid nature. It is also the precursor of steroid hormones such as testosterone.\", 'content_type': 'text', 'score': None, 'meta': {'subject': 'biology', 'topic': ' Lipids', 'classification': {'score': 0.5617516040802002, 'details': {'chemistry': 0.42405247688293457, 'biology': 0.5617516040802002, 'physics': 0.014195919968187809}, 'label': 'biology'}}, 'id_hash_keys': ['content'], 'embedding': None, 'id': 'dc57c73ce6ec10136ef4a8754ccaaf6'}>,\n",
       " <Document: {'content': 'Proteins are a class of macromolecules that perform a diverse range of functions for the cell. They help in metabolism by acting as enzymes, carriers, or hormones, and provide structural support. The building blocks of proteins (monomers) are amino acids. Each amino acid has a central carbon that bonds to an amino group, a carboxyl group, a hydrogen atom, and an R group or side chain. There are 20 commonly occurring amino acids, each of which differs in the R group. A peptide bond links each amino acid to its neighbors. A long amino acid chain is a polypeptide.', 'content_type': 'text', 'score': None, 'meta': {'subject': 'biology', 'topic': ' Proteins', 'classification': {'score': 0.5492972731590271, 'details': {'chemistry': 0.4319708049297333, 'biology': 0.5492972731590271, 'physics': 0.018731897696852684}, 'label': 'biology'}}, 'id_hash_keys': ['content'], 'embedding': None, 'id': 'e2185342706fde687b1a2d0f7a3349ac'}>,\n",
       " <Document: {'content': \"Nucleic acids are molecules comprised of nucleotides that direct cellular activities such as cell division and protein synthesis. Pentose sugar, a nitrogenous base, and a phosphate group comprise each nucleotide. There are two types of nucleic acids: DNA and RNA. DNA carries the cell's genetic blueprint and passes it on from parents to offspring (in the form of chromosomes). It has a double-helical structure with the two strands running in opposite directions, connected by hydrogen bonds, and complementary to each other. RNA is a single-stranded polymer composed of linked nucleotides made up of a pentose sugar (ribose), a nitrogenous base, and a phosphate group. RNA is involved in protein synthesis and its regulation. Messenger RNA (mRNA) copies from the DNA, exports itself from the nucleus to the cytoplasm, and contains information for constructing proteins. Ribosomal RNA (rRNA) is a part of the ribosomes at the site of protein synthesis; whereas, transfer RNA (tRNA) carries the amino acid to the site of protein synthesis. The microRNA regulates using mRNA for protein synthesis.\", 'content_type': 'text', 'score': None, 'meta': {'subject': 'biology', 'topic': ' Nucleic Acids', 'classification': {'score': 0.8374455571174622, 'details': {'chemistry': 0.1594080626964569, 'biology': 0.8374455571174622, 'physics': 0.0031464078929275274}, 'label': 'biology'}}, 'id_hash_keys': ['content'], 'embedding': None, 'id': '6cd7d16f891c686abe236a0190b7bb37'}>,\n",
       " <Document: {'content': 'A cell is the smallest unit of life. Most cells are so tiny that we cannot see them with the naked eye. Therefore, scientists use microscopes to study cells. Electron microscopes provide higher magnification, higher resolution, and more detail than light microscopes. The unified cell theory states that one or more cells comprise all organisms, the cell is the basic unit of life, and new cells arise from existing cells.', 'content_type': 'text', 'score': None, 'meta': {'subject': 'biology', 'topic': ' Studying Cells', 'classification': {'score': 0.8792482614517212, 'details': {'chemistry': 0.013465984724462032, 'biology': 0.8792482614517212, 'physics': 0.1072857603430748}, 'label': 'biology'}}, 'id_hash_keys': ['content'], 'embedding': None, 'id': '4b436165b226281b18d2252d74eb228a'}>,\n",
       " <Document: {'content': 'Prokaryotes are single-celled organisms of the domains Bacteria and Archaea. All prokaryotes have plasma membranes, cytoplasm, ribosomes, and DNA that is not membrane-bound. Most have peptidoglycan cell walls and many have polysaccharide capsules. Prokaryotic cells range in diameter from 0.1 to 5.0 μm.', 'content_type': 'text', 'score': None, 'meta': {'subject': 'biology', 'topic': ' Prokaryotic Cells', 'classification': {'score': 0.9836196899414062, 'details': {'chemistry': 0.011865666136145592, 'biology': 0.9836196899414062, 'physics': 0.004514686297625303}, 'label': 'biology'}}, 'id_hash_keys': ['content'], 'embedding': None, 'id': '4cb47f21ef24fedbf4b99eda31f81ceb'}>,\n",
       " <Document: {'content': 'Like a prokaryotic cell, a eukaryotic cell has a plasma membrane, cytoplasm, and ribosomes, but a eukaryotic cell is typically larger than a prokaryotic cell, has a true nucleus (meaning a membrane surrounds its DNA), and has other membrane-bound organelles that allow for compartmentalizing functions. The plasma membrane is a phospholipid bilayer embedded with proteins. The nucleus’s nucleolus is the site of ribosome assembly. We find ribosomes either in the cytoplasm or attached to the cytoplasmic side of the plasma membrane or endoplasmic reticulum. They perform protein synthesis. Mitochondria participate in cellular respiration. They are responsible for the majority of ATP produced in the cell. Peroxisomes hydrolyze fatty acids, amino acids, and some toxins. Vesicles and vacuoles are storage and transport compartments. In plant cells, vacuoles also help break down macromolecules.', 'content_type': 'text', 'score': None, 'meta': {'subject': 'biology', 'topic': ' Eukaryotic Cells', 'classification': {'score': 0.9603505730628967, 'details': {'chemistry': 0.030818302184343338, 'biology': 0.9603505730628967, 'physics': 0.008831144310534}, 'label': 'biology'}}, 'id_hash_keys': ['content'], 'embedding': None, 'id': '1e25c41058f29c8f85d95bee213c0c3b'}>]"
      ]
     },
     "execution_count": 110,
     "metadata": {},
     "output_type": "execute_result"
    }
   ],
   "source": [
    "docs"
   ]
  },
  {
   "cell_type": "code",
   "execution_count": 120,
   "metadata": {},
   "outputs": [
    {
     "name": "stdout",
     "output_type": "stream",
     "text": [
      "{'content': 'This is a biology text\\n',\n",
      " 'content_type': 'text',\n",
      " 'embedding': None,\n",
      " 'id': 'd6659290230e3cad35f25fd7af40139f',\n",
      " 'id_hash_keys': ['content'],\n",
      " 'meta': {'classification': {'details': {'biology': 0.9655949473381042,\n",
      "                                         'chemistry': 0.010395056568086147,\n",
      "                                         'physics': 0.024009989574551582},\n",
      "                             'label': 'biology',\n",
      "                             'score': 0.9655949473381042},\n",
      "          'subject': 'biology',\n",
      "          'topic': 'Biology'},\n",
      " 'score': None}\n"
     ]
    }
   ],
   "source": [
    "import pprint\n",
    "pprint.pprint({'content': 'This is a biology text\\n', 'content_type': 'text', 'score': None, 'meta': {'subject': 'biology', 'topic': 'Biology', 'classification': {'score': 0.9655949473381042, 'details': {'chemistry': 0.010395056568086147, 'biology': 0.9655949473381042, 'physics': 0.024009989574551582}, 'label': 'biology'}}, 'id_hash_keys': ['content'], 'embedding': None, 'id': 'd6659290230e3cad35f25fd7af40139f'})"
   ]
  },
  {
   "cell_type": "code",
   "execution_count": 121,
   "metadata": {},
   "outputs": [],
   "source": [
    "x = {'content': 'This is a biology text\\n',\n",
    " 'content_type': 'text',\n",
    " 'embedding': None,\n",
    " 'id': 'd6659290230e3cad35f25fd7af40139f',\n",
    " 'id_hash_keys': ['content'],\n",
    " 'meta': {'classification': {'details': {'biology': 0.9655949473381042,\n",
    "                                         'chemistry': 0.010395056568086147,\n",
    "                                         'physics': 0.024009989574551582},\n",
    "                             'label': 'biology',\n",
    "                             'score': 0.9655949473381042},\n",
    "          'subject': 'biology',\n",
    "          'topic': 'Biology'},\n",
    " 'score': None}"
   ]
  },
  {
   "cell_type": "code",
   "execution_count": 123,
   "metadata": {},
   "outputs": [
    {
     "data": {
      "text/plain": [
       "'biology'"
      ]
     },
     "execution_count": 123,
     "metadata": {},
     "output_type": "execute_result"
    }
   ],
   "source": [
    "x['meta']['classification']['label']"
   ]
  },
  {
   "cell_type": "code",
   "execution_count": 28,
   "metadata": {},
   "outputs": [],
   "source": [
    "filterx = {'meta': {'topic': ' The Science of Biology'}}"
   ]
  },
  {
   "cell_type": "code",
   "execution_count": 56,
   "metadata": {},
   "outputs": [],
   "source": [
    "d = doc_store.get_all_documents()"
   ]
  },
  {
   "cell_type": "code",
   "execution_count": 69,
   "metadata": {},
   "outputs": [
    {
     "name": "stdout",
     "output_type": "stream",
     "text": [
      "biology\n",
      "biology\n",
      "chemistry\n",
      "biology\n",
      "biology\n",
      "biology\n",
      "biology\n",
      "biology\n",
      "biology\n",
      "biology\n"
     ]
    }
   ],
   "source": [
    "for doc in d:\n",
    "    print(doc.meta['classification']['label'])"
   ]
  },
  {
   "cell_type": "code",
   "execution_count": 71,
   "metadata": {},
   "outputs": [
    {
     "ename": "ValueError",
     "evalue": "No node(s) or global parameter(s) named filters found in pipeline.",
     "output_type": "error",
     "traceback": [
      "\u001b[0;31m---------------------------------------------------------------------------\u001b[0m",
      "\u001b[0;31mValueError\u001b[0m                                Traceback (most recent call last)",
      "Cell \u001b[0;32mIn[71], line 2\u001b[0m\n\u001b[1;32m      1\u001b[0m \u001b[39mfor\u001b[39;00m doc \u001b[39min\u001b[39;00m docs:\n\u001b[0;32m----> 2\u001b[0m     result \u001b[39m=\u001b[39m pipeline\u001b[39m.\u001b[39;49mrun(documents\u001b[39m=\u001b[39;49m[doc], params\u001b[39m=\u001b[39;49m{\u001b[39m'\u001b[39;49m\u001b[39mfilters\u001b[39;49m\u001b[39m'\u001b[39;49m: \n\u001b[1;32m      3\u001b[0m                                                         {\u001b[39m'\u001b[39;49m\u001b[39mmeta\u001b[39;49m\u001b[39m'\u001b[39;49m: \n\u001b[1;32m      4\u001b[0m                                                             {\u001b[39m'\u001b[39;49m\u001b[39mclassification\u001b[39;49m\u001b[39m'\u001b[39;49m: \n\u001b[1;32m      5\u001b[0m                                                                 {\n\u001b[1;32m      6\u001b[0m                                                                     \u001b[39m'\u001b[39;49m\u001b[39mlabel\u001b[39;49m\u001b[39m'\u001b[39;49m: [\u001b[39m'\u001b[39;49m\u001b[39mbiology\u001b[39;49m\u001b[39m'\u001b[39;49m]\n\u001b[1;32m      7\u001b[0m                                                                 }\n\u001b[1;32m      8\u001b[0m                                                             }\n\u001b[1;32m      9\u001b[0m                                                         }\n\u001b[1;32m     10\u001b[0m                                                     }\n\u001b[1;32m     11\u001b[0m                                                       )\n\u001b[1;32m     12\u001b[0m     \u001b[39m#result = pipeline.run(documents=[doc], params={'content_type': 'text'})\u001b[39;00m\n\u001b[1;32m     13\u001b[0m     \u001b[39m#result = pipeline.run(documents=[doc], metadata={'label': 'biology'})\u001b[39;00m\n\u001b[1;32m     14\u001b[0m     \u001b[39mprint\u001b[39m(result)\n",
      "File \u001b[0;32m~/miniconda3/lib/python3.11/site-packages/haystack/pipelines/standard_pipelines.py:701\u001b[0m, in \u001b[0;36mQuestionAnswerGenerationPipeline.run\u001b[0;34m(self, documents, params, debug)\u001b[0m\n\u001b[1;32m    698\u001b[0m \u001b[39mdef\u001b[39;00m \u001b[39mrun\u001b[39m(\n\u001b[1;32m    699\u001b[0m     \u001b[39mself\u001b[39m, documents: List[Document], params: Optional[\u001b[39mdict\u001b[39m] \u001b[39m=\u001b[39m \u001b[39mNone\u001b[39;00m, debug: Optional[\u001b[39mbool\u001b[39m] \u001b[39m=\u001b[39m \u001b[39mNone\u001b[39;00m  \u001b[39m# type: ignore\u001b[39;00m\n\u001b[1;32m    700\u001b[0m ):\n\u001b[0;32m--> 701\u001b[0m     output \u001b[39m=\u001b[39m \u001b[39mself\u001b[39;49m\u001b[39m.\u001b[39;49mpipeline\u001b[39m.\u001b[39;49mrun(documents\u001b[39m=\u001b[39;49mdocuments, params\u001b[39m=\u001b[39;49mparams, debug\u001b[39m=\u001b[39;49mdebug)\n\u001b[1;32m    702\u001b[0m     \u001b[39mreturn\u001b[39;00m output\n",
      "File \u001b[0;32m~/miniconda3/lib/python3.11/site-packages/haystack/pipelines/base.py:511\u001b[0m, in \u001b[0;36mPipeline.run\u001b[0;34m(self, query, file_paths, labels, documents, meta, params, debug)\u001b[0m\n\u001b[1;32m    499\u001b[0m send_pipeline_event(\n\u001b[1;32m    500\u001b[0m     pipeline\u001b[39m=\u001b[39m\u001b[39mself\u001b[39m,\n\u001b[1;32m    501\u001b[0m     query\u001b[39m=\u001b[39mquery,\n\u001b[0;32m   (...)\u001b[0m\n\u001b[1;32m    507\u001b[0m     debug\u001b[39m=\u001b[39mdebug,\n\u001b[1;32m    508\u001b[0m )\n\u001b[1;32m    510\u001b[0m \u001b[39m# validate the node names\u001b[39;00m\n\u001b[0;32m--> 511\u001b[0m \u001b[39mself\u001b[39;49m\u001b[39m.\u001b[39;49m_validate_node_names_in_params(params\u001b[39m=\u001b[39;49mparams)\n\u001b[1;32m    513\u001b[0m root_node \u001b[39m=\u001b[39m \u001b[39mself\u001b[39m\u001b[39m.\u001b[39mroot_node\n\u001b[1;32m    514\u001b[0m \u001b[39mif\u001b[39;00m \u001b[39mnot\u001b[39;00m root_node:\n",
      "File \u001b[0;32m~/miniconda3/lib/python3.11/site-packages/haystack/pipelines/base.py:2301\u001b[0m, in \u001b[0;36mPipeline._validate_node_names_in_params\u001b[0;34m(self, params)\u001b[0m\n\u001b[1;32m   2298\u001b[0m invalid_keys \u001b[39m=\u001b[39m [key \u001b[39mfor\u001b[39;00m key \u001b[39min\u001b[39;00m not_a_node \u001b[39mif\u001b[39;00m key \u001b[39mnot\u001b[39;00m \u001b[39min\u001b[39;00m valid_global_params]\n\u001b[1;32m   2300\u001b[0m \u001b[39mif\u001b[39;00m invalid_keys:\n\u001b[0;32m-> 2301\u001b[0m     \u001b[39mraise\u001b[39;00m \u001b[39mValueError\u001b[39;00m(\n\u001b[1;32m   2302\u001b[0m         \u001b[39mf\u001b[39m\u001b[39m\"\u001b[39m\u001b[39mNo node(s) or global parameter(s) named \u001b[39m\u001b[39m{\u001b[39;00m\u001b[39m'\u001b[39m\u001b[39m, \u001b[39m\u001b[39m'\u001b[39m\u001b[39m.\u001b[39mjoin(invalid_keys)\u001b[39m}\u001b[39;00m\u001b[39m found in pipeline.\u001b[39m\u001b[39m\"\u001b[39m\n\u001b[1;32m   2303\u001b[0m     )\n",
      "\u001b[0;31mValueError\u001b[0m: No node(s) or global parameter(s) named filters found in pipeline."
     ]
    }
   ],
   "source": [
    "for doc in docs:\n",
    "    result = pipeline.run(documents=[doc], params={'filters': \n",
    "                                                        {'meta': \n",
    "                                                            {'classification': \n",
    "                                                                {\n",
    "                                                                    'label': ['biology']\n",
    "                                                                }\n",
    "                                                            }\n",
    "                                                        }\n",
    "                                                    }\n",
    "                                                      )\n",
    "    #result = pipeline.run(documents=[doc], params={'content_type': 'text'})\n",
    "    #result = pipeline.run(documents=[doc], metadata={'label': 'biology'})\n",
    "    print(result)\n",
    "    break"
   ]
  },
  {
   "cell_type": "code",
   "execution_count": 15,
   "metadata": {},
   "outputs": [
    {
     "data": {
      "text/plain": [
       "{'queries': ['What is the science that studies living organisms and their interactions with one another and their environments?',\n",
       "  'Science attempts to describe and understand the nature of the universe in whole or in part by what means?',\n",
       "  'What fields related to the physical world and its phenomena are natural sciences?'],\n",
       " 'answers': [[<Answer {'answer': 'Biology', 'type': 'extractive', 'score': 0.9669034481048584, 'context': 'Biology is the science that studies living organisms and their interactions with one another and their environments. Science attempts to describe and ', 'offsets_in_document': [{'start': 0, 'end': 7}], 'offsets_in_context': [{'start': 0, 'end': 7}], 'document_ids': ['d6659290230e3cad35f25fd7af40139f'], 'meta': {'subject': 'biology', 'topic': 'The Science of Biology'}}>],\n",
       "  [<Answer {'answer': 'rational', 'type': 'extractive', 'score': 0.8733130693435669, 'context': 'cribe and understand the nature of the universe in whole or in part by rational means. Science has many fields. Those fields related to the physical w', 'offsets_in_document': [{'start': 211, 'end': 219}], 'offsets_in_context': [{'start': 71, 'end': 79}], 'document_ids': ['d6659290230e3cad35f25fd7af40139f'], 'meta': {'subject': 'biology', 'topic': 'The Science of Biology'}}>],\n",
       "  [<Answer {'answer': 'Science has many fields', 'type': 'extractive', 'score': 0.32916587591171265, 'context': 'e nature of the universe in whole or in part by rational means. Science has many fields. Those fields related to the physical world and its phenomena ', 'offsets_in_document': [{'start': 227, 'end': 250}], 'offsets_in_context': [{'start': 64, 'end': 87}], 'document_ids': ['d6659290230e3cad35f25fd7af40139f'], 'meta': {'subject': 'biology', 'topic': 'The Science of Biology'}}>]],\n",
       " 'no_ans_gaps': [6.87212610244751, 8.901010990142822, -0.6819915175437927],\n",
       " 'documents': [[<Document: {'content': 'Biology is the science that studies living organisms and their interactions with one another and their environments. Science attempts to describe and understand the nature of the universe in whole or in part by rational means. Science has many fields. Those fields related to the physical world and its phenomena are natural sciences.', 'content_type': 'text', 'score': None, 'meta': {'subject': 'biology', 'topic': 'The Science of Biology'}, 'id_hash_keys': ['content'], 'embedding': None, 'id': 'd6659290230e3cad35f25fd7af40139f'}>],\n",
       "  [<Document: {'content': 'Biology is the science that studies living organisms and their interactions with one another and their environments. Science attempts to describe and understand the nature of the universe in whole or in part by rational means. Science has many fields. Those fields related to the physical world and its phenomena are natural sciences.', 'content_type': 'text', 'score': None, 'meta': {'subject': 'biology', 'topic': 'The Science of Biology'}, 'id_hash_keys': ['content'], 'embedding': None, 'id': 'd6659290230e3cad35f25fd7af40139f'}>],\n",
       "  [<Document: {'content': 'Biology is the science that studies living organisms and their interactions with one another and their environments. Science attempts to describe and understand the nature of the universe in whole or in part by rational means. Science has many fields. Those fields related to the physical world and its phenomena are natural sciences.', 'content_type': 'text', 'score': None, 'meta': {'subject': 'biology', 'topic': 'The Science of Biology'}, 'id_hash_keys': ['content'], 'embedding': None, 'id': 'd6659290230e3cad35f25fd7af40139f'}>]],\n",
       " 'root_node': 'Query',\n",
       " 'params': {},\n",
       " 'node_id': 'Reader'}"
      ]
     },
     "execution_count": 15,
     "metadata": {},
     "output_type": "execute_result"
    }
   ],
   "source": [
    "result"
   ]
  },
  {
   "cell_type": "code",
   "execution_count": 23,
   "metadata": {},
   "outputs": [
    {
     "name": "stdout",
     "output_type": "stream",
     "text": [
      "Biology\n",
      "What is the science that studies living organisms and their interactions with one another and their environments?\n",
      "Biology is the science that studies living organisms and their interactions with one another and their environments. Science attempts to describe and understand the nature of the universe in whole or in part by rational means. Science has many fields. Those fields related to the physical world and its phenomena are natural sciences.\n",
      "--\n",
      "rational\n",
      "Science attempts to describe and understand the nature of the universe in whole or in part by what means?\n",
      "Biology is the science that studies living organisms and their interactions with one another and their environments. Science attempts to describe and understand the nature of the universe in whole or in part by rational means. Science has many fields. Those fields related to the physical world and its phenomena are natural sciences.\n",
      "--\n"
     ]
    },
    {
     "ename": "",
     "evalue": "",
     "output_type": "error",
     "traceback": [
      "\u001b[1;31mThe Kernel crashed while executing code in the the current cell or a previous cell. Please review the code in the cell(s) to identify a possible cause of the failure. Click <a href='https://aka.ms/vscodeJupyterKernelCrash'>here</a> for more info. View Jupyter <a href='command:jupyter.viewOutput'>log</a> for further details."
     ]
    }
   ],
   "source": [
    "for query_content, answer_content, document_content in zip(result['queries'], result['answers'], result['documents']):\n",
    "        answer = answer_content[0]\n",
    "        document = document_content[0]\n",
    "        if answer.score > 0.75:\n",
    "            print(answer.answer)\n",
    "            print(query_content)\n",
    "            print(document.content, end='\\n--\\n')\n",
    "            \n",
    "            #generated_ques.append(query_content)\n",
    "            #generated_ans.append(answer.answer)\n",
    "            #doc_contexts.append(document.content)"
   ]
  },
  {
   "cell_type": "code",
   "execution_count": null,
   "metadata": {},
   "outputs": [],
   "source": [
    "docs = doc_store.get_all_documents()\n",
    "results = pipeline.run(documents=docs)"
   ]
  },
  {
   "cell_type": "code",
   "execution_count": null,
   "metadata": {},
   "outputs": [],
   "source": [
    "generated_ques = []\n",
    "generated_ans = []\n",
    "doc_contexts = []\n",
    "\n",
    "for query_content, answer_content, document_content in zip(results['queries'], results['answers'], results['documents']):\n",
    "    answer = answer_content[0]\n",
    "    document = document_content[0]\n",
    "    if answer.score > 0.75:\n",
    "        generated_ques.append(query_content)\n",
    "        generated_ans.append(answer.answer)\n",
    "        doc_contexts.append(document.content)\n",
    "        #doc_contexts.append(document)\n",
    "        #print(query_content)\n",
    "        #print(answer.answer, answer.score)\n",
    "        #print(document, end='\\n--\\n')"
   ]
  },
  {
   "cell_type": "code",
   "execution_count": null,
   "metadata": {},
   "outputs": [],
   "source": [
    "df_gen_qa = pd.DataFrame(data={'generated_question':generated_ques, 'generated_answer':generated_ans,\n",
    "                               'document_context':doc_contexts})"
   ]
  },
  {
   "cell_type": "code",
   "execution_count": null,
   "metadata": {},
   "outputs": [],
   "source": [
    "df_gen_qa.to_csv(f'data/{topic}_generated_QA.csv', index=False)"
   ]
  },
  {
   "cell_type": "code",
   "execution_count": 12,
   "metadata": {},
   "outputs": [],
   "source": [
    "x = [1,2,3]\n",
    "y = ['a', 'b']"
   ]
  },
  {
   "cell_type": "code",
   "execution_count": 13,
   "metadata": {},
   "outputs": [],
   "source": [
    "x.extend(y)"
   ]
  },
  {
   "cell_type": "code",
   "execution_count": 14,
   "metadata": {},
   "outputs": [
    {
     "name": "stdout",
     "output_type": "stream",
     "text": [
      "[1, 2, 3, 'a', 'b']\n"
     ]
    }
   ],
   "source": [
    "print(x)"
   ]
  },
  {
   "cell_type": "code",
   "execution_count": 15,
   "metadata": {},
   "outputs": [
    {
     "ename": "ValueError",
     "evalue": "invalid literal for int() with base 10: 'd'",
     "output_type": "error",
     "traceback": [
      "\u001b[0;31m---------------------------------------------------------------------------\u001b[0m",
      "\u001b[0;31mValueError\u001b[0m                                Traceback (most recent call last)",
      "Cell \u001b[0;32mIn[15], line 1\u001b[0m\n\u001b[0;32m----> 1\u001b[0m \u001b[39mint\u001b[39;49m(\u001b[39m'\u001b[39;49m\u001b[39md\u001b[39;49m\u001b[39m'\u001b[39;49m)\n",
      "\u001b[0;31mValueError\u001b[0m: invalid literal for int() with base 10: 'd'"
     ]
    }
   ],
   "source": [
    "int('d')"
   ]
  }
 ],
 "metadata": {
  "kernelspec": {
   "display_name": "base",
   "language": "python",
   "name": "python3"
  },
  "language_info": {
   "codemirror_mode": {
    "name": "ipython",
    "version": 3
   },
   "file_extension": ".py",
   "mimetype": "text/x-python",
   "name": "python",
   "nbconvert_exporter": "python",
   "pygments_lexer": "ipython3",
   "version": "3.11.4"
  },
  "orig_nbformat": 4
 },
 "nbformat": 4,
 "nbformat_minor": 2
}
