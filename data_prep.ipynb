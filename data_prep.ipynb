{
 "cells": [
  {
   "cell_type": "markdown",
   "metadata": {},
   "source": [
    "# Data Preparation "
   ]
  },
  {
   "cell_type": "code",
   "execution_count": null,
   "metadata": {},
   "outputs": [],
   "source": [
    "import helper\n",
    "import pandas as pd\n",
    "from pprint import pprint\n",
    "from tqdm.auto import tqdm\n",
    "from haystack.nodes import QuestionGenerator, BM25Retriever, FARMReader\n",
    "from haystack.document_stores import ElasticsearchDocumentStore\n",
    "from haystack.pipelines import RetrieverQuestionGenerationPipeline, QuestionAnswerGenerationPipeline\n",
    "from haystack.utils import print_questions, export_answers_to_csv"
   ]
  },
  {
   "cell_type": "code",
   "execution_count": null,
   "metadata": {},
   "outputs": [],
   "source": [
    "# Openstax Biology\n",
    "topic = 'openstax_biology'\n",
    "docs = helper.openstax_to_doc(path='data/openstax_biology.csv')"
   ]
  },
  {
   "cell_type": "code",
   "execution_count": null,
   "metadata": {},
   "outputs": [],
   "source": [
    "doc_store = helper.add_to_docstore(docs, index=topic, delete_docs=True)"
   ]
  },
  {
   "cell_type": "code",
   "execution_count": null,
   "metadata": {},
   "outputs": [],
   "source": [
    "doc_store = helper.classify_docs(labels=['physics', 'chemistry', 'biology'],\n",
    "                                doc_store=doc_store, index=topic)"
   ]
  },
  {
   "cell_type": "code",
   "execution_count": null,
   "metadata": {},
   "outputs": [],
   "source": [
    "question_generator = QuestionGenerator(model_name_or_path='valhalla/t5-base-e2e-qg',\n",
    "                                       max_length=420, split_length=75, \n",
    "                                       split_overlap=20, use_gpu=True)"
   ]
  },
  {
   "cell_type": "code",
   "execution_count": null,
   "metadata": {},
   "outputs": [],
   "source": [
    "#reader = FARMReader(model_name_or_path=\"deepset/roberta-base-squad2\", \n",
    "#                    use_gpu=True, confidence_threshold=0.70)\n",
    "reader = FARMReader(model_name_or_path=\"deepset/roberta-base-squad2\", \n",
    "                    top_k=1, use_gpu=True)"
   ]
  },
  {
   "cell_type": "code",
   "execution_count": null,
   "metadata": {},
   "outputs": [],
   "source": [
    "pipeline = QuestionAnswerGenerationPipeline(question_generator, reader)"
   ]
  },
  {
   "cell_type": "code",
   "execution_count": null,
   "metadata": {},
   "outputs": [],
   "source": [
    "docs = doc_store.get_all_documents()\n",
    "results = pipeline.run(documents=docs)"
   ]
  },
  {
   "cell_type": "code",
   "execution_count": null,
   "metadata": {},
   "outputs": [],
   "source": [
    "generated_ques = []\n",
    "generated_ans = []\n",
    "doc_contexts = []\n",
    "\n",
    "for query_content, answer_content, document_content in zip(results['queries'], results['answers'], results['documents']):\n",
    "    answer = answer_content[0]\n",
    "    document = document_content[0]\n",
    "    if answer.score > 0.75:\n",
    "        generated_ques.append(query_content)\n",
    "        generated_ans.append(answer.answer)\n",
    "        doc_contexts.append(document.content)\n",
    "        #doc_contexts.append(document)\n",
    "        #print(query_content)\n",
    "        #print(answer.answer, answer.score)\n",
    "        #print(document, end='\\n--\\n')"
   ]
  },
  {
   "cell_type": "code",
   "execution_count": null,
   "metadata": {},
   "outputs": [],
   "source": [
    "df_gen_qa = pd.DataFrame(data={'generated_question':generated_ques, 'generated_answer':generated_ans,\n",
    "                               'document_context':doc_contexts})"
   ]
  },
  {
   "cell_type": "code",
   "execution_count": null,
   "metadata": {},
   "outputs": [],
   "source": [
    "df_gen_qa.to_csv(f'data/{topic}_generated_QA.csv', index=False)"
   ]
  }
 ],
 "metadata": {
  "kernelspec": {
   "display_name": "base",
   "language": "python",
   "name": "python3"
  },
  "language_info": {
   "codemirror_mode": {
    "name": "ipython",
    "version": 3
   },
   "file_extension": ".py",
   "mimetype": "text/x-python",
   "name": "python",
   "nbconvert_exporter": "python",
   "pygments_lexer": "ipython3",
   "version": "3.11.4"
  },
  "orig_nbformat": 4
 },
 "nbformat": 4,
 "nbformat_minor": 2
}
