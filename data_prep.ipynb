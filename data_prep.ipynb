{
 "cells": [
  {
   "cell_type": "markdown",
   "metadata": {},
   "source": [
    "# Data Preparation "
   ]
  },
  {
   "cell_type": "code",
   "execution_count": 1,
   "metadata": {},
   "outputs": [
    {
     "name": "stderr",
     "output_type": "stream",
     "text": [
      "2023-08-02 17:56:17.516198: I tensorflow/core/platform/cpu_feature_guard.cc:182] This TensorFlow binary is optimized to use available CPU instructions in performance-critical operations.\n",
      "To enable the following instructions: AVX2 FMA, in other operations, rebuild TensorFlow with the appropriate compiler flags.\n",
      "2023-08-02 17:56:18.565400: W tensorflow/compiler/tf2tensorrt/utils/py_utils.cc:38] TF-TRT Warning: Could not find TensorRT\n"
     ]
    }
   ],
   "source": [
    "import helper\n",
    "import pandas as pd\n",
    "from pprint import pprint\n",
    "from tqdm.auto import tqdm\n",
    "from haystack.nodes import QuestionGenerator, BM25Retriever, FARMReader\n",
    "from haystack.document_stores import ElasticsearchDocumentStore\n",
    "from haystack.pipelines import RetrieverQuestionGenerationPipeline, QuestionAnswerGenerationPipeline\n",
    "from haystack.utils import print_questions, export_answers_to_csv"
   ]
  },
  {
   "cell_type": "code",
   "execution_count": 7,
   "metadata": {},
   "outputs": [],
   "source": [
    "# Openstax Biology\n",
    "topic = 'test'\n",
    "docs = helper.openstax_to_doc(path='data/openstax_biology_sample.csv')"
   ]
  },
  {
   "cell_type": "code",
   "execution_count": 8,
   "metadata": {},
   "outputs": [],
   "source": [
    "doc_store = helper.add_to_docstore(docs, index=topic, delete_docs=True)"
   ]
  },
  {
   "cell_type": "code",
   "execution_count": null,
   "metadata": {},
   "outputs": [],
   "source": [
    "doc_store = helper.classify_docs(labels=['physics', 'chemistry', 'biology'],\n",
    "                                doc_store=doc_store, index=topic)"
   ]
  },
  {
   "cell_type": "code",
   "execution_count": 9,
   "metadata": {},
   "outputs": [
    {
     "name": "stderr",
     "output_type": "stream",
     "text": [
      "/home/rjt/miniconda3/lib/python3.11/site-packages/torch/_utils.py:776: UserWarning: TypedStorage is deprecated. It will be removed in the future and UntypedStorage will be the only storage class. This should only matter to you if you are using storages directly.  To access UntypedStorage directly, use tensor.untyped_storage() instead of tensor.storage()\n",
      "  return self.fget.__get__(instance, owner)()\n",
      "You are using the legacy behaviour of the <class 'transformers.models.t5.tokenization_t5.T5Tokenizer'>. This means that tokens that come after special tokens will not be properly handled. We recommend you to read the related pull request available at https://github.com/huggingface/transformers/pull/24565\n",
      "Using sep_token, but it is not set yet.\n"
     ]
    }
   ],
   "source": [
    "question_generator = QuestionGenerator(model_name_or_path='valhalla/t5-base-e2e-qg',\n",
    "                                       max_length=420, split_length=75, \n",
    "                                       split_overlap=20, use_gpu=True)"
   ]
  },
  {
   "cell_type": "code",
   "execution_count": 10,
   "metadata": {},
   "outputs": [],
   "source": [
    "#reader = FARMReader(model_name_or_path=\"deepset/roberta-base-squad2\", \n",
    "#                    use_gpu=True, confidence_threshold=0.70)\n",
    "reader = FARMReader(model_name_or_path=\"deepset/roberta-base-squad2\", \n",
    "                    top_k=1, use_gpu=True)"
   ]
  },
  {
   "cell_type": "code",
   "execution_count": 11,
   "metadata": {},
   "outputs": [],
   "source": [
    "pipeline = QuestionAnswerGenerationPipeline(question_generator, reader)"
   ]
  },
  {
   "cell_type": "code",
   "execution_count": 12,
   "metadata": {},
   "outputs": [],
   "source": [
    "docs = doc_store.get_all_documents()"
   ]
  },
  {
   "cell_type": "code",
   "execution_count": 13,
   "metadata": {},
   "outputs": [
    {
     "name": "stderr",
     "output_type": "stream",
     "text": [
      "Inferencing Samples: 100%|██████████| 1/1 [00:00<00:00,  8.65 Batches/s]"
     ]
    },
    {
     "name": "stdout",
     "output_type": "stream",
     "text": [
      "{'queries': ['What is the science that studies living organisms and their interactions with one another and their environments?', 'Science attempts to describe and understand the nature of the universe in whole or in part by what means?', 'What fields related to the physical world and its phenomena are natural sciences?'], 'answers': [[<Answer {'answer': 'Biology', 'type': 'extractive', 'score': 0.9669034481048584, 'context': 'Biology is the science that studies living organisms and their interactions with one another and their environments. Science attempts to describe and ', 'offsets_in_document': [{'start': 0, 'end': 7}], 'offsets_in_context': [{'start': 0, 'end': 7}], 'document_ids': ['d6659290230e3cad35f25fd7af40139f'], 'meta': {'subject': 'biology', 'topic': 'The Science of Biology'}}>], [<Answer {'answer': 'rational', 'type': 'extractive', 'score': 0.8733130693435669, 'context': 'cribe and understand the nature of the universe in whole or in part by rational means. Science has many fields. Those fields related to the physical w', 'offsets_in_document': [{'start': 211, 'end': 219}], 'offsets_in_context': [{'start': 71, 'end': 79}], 'document_ids': ['d6659290230e3cad35f25fd7af40139f'], 'meta': {'subject': 'biology', 'topic': 'The Science of Biology'}}>], [<Answer {'answer': 'Science has many fields', 'type': 'extractive', 'score': 0.32916587591171265, 'context': 'e nature of the universe in whole or in part by rational means. Science has many fields. Those fields related to the physical world and its phenomena ', 'offsets_in_document': [{'start': 227, 'end': 250}], 'offsets_in_context': [{'start': 64, 'end': 87}], 'document_ids': ['d6659290230e3cad35f25fd7af40139f'], 'meta': {'subject': 'biology', 'topic': 'The Science of Biology'}}>]], 'no_ans_gaps': [6.87212610244751, 8.901010990142822, -0.6819915175437927], 'documents': [[<Document: {'content': 'Biology is the science that studies living organisms and their interactions with one another and their environments. Science attempts to describe and understand the nature of the universe in whole or in part by rational means. Science has many fields. Those fields related to the physical world and its phenomena are natural sciences.', 'content_type': 'text', 'score': None, 'meta': {'subject': 'biology', 'topic': 'The Science of Biology'}, 'id_hash_keys': ['content'], 'embedding': None, 'id': 'd6659290230e3cad35f25fd7af40139f'}>], [<Document: {'content': 'Biology is the science that studies living organisms and their interactions with one another and their environments. Science attempts to describe and understand the nature of the universe in whole or in part by rational means. Science has many fields. Those fields related to the physical world and its phenomena are natural sciences.', 'content_type': 'text', 'score': None, 'meta': {'subject': 'biology', 'topic': 'The Science of Biology'}, 'id_hash_keys': ['content'], 'embedding': None, 'id': 'd6659290230e3cad35f25fd7af40139f'}>], [<Document: {'content': 'Biology is the science that studies living organisms and their interactions with one another and their environments. Science attempts to describe and understand the nature of the universe in whole or in part by rational means. Science has many fields. Those fields related to the physical world and its phenomena are natural sciences.', 'content_type': 'text', 'score': None, 'meta': {'subject': 'biology', 'topic': 'The Science of Biology'}, 'id_hash_keys': ['content'], 'embedding': None, 'id': 'd6659290230e3cad35f25fd7af40139f'}>]], 'root_node': 'Query', 'params': {}, 'node_id': 'Reader'}\n"
     ]
    },
    {
     "name": "stderr",
     "output_type": "stream",
     "text": [
      "\n"
     ]
    }
   ],
   "source": [
    "for doc in docs:\n",
    "    result = pipeline.run(documents=[doc])\n",
    "    print(result)\n",
    "    break"
   ]
  },
  {
   "cell_type": "code",
   "execution_count": 15,
   "metadata": {},
   "outputs": [
    {
     "data": {
      "text/plain": [
       "{'queries': ['What is the science that studies living organisms and their interactions with one another and their environments?',\n",
       "  'Science attempts to describe and understand the nature of the universe in whole or in part by what means?',\n",
       "  'What fields related to the physical world and its phenomena are natural sciences?'],\n",
       " 'answers': [[<Answer {'answer': 'Biology', 'type': 'extractive', 'score': 0.9669034481048584, 'context': 'Biology is the science that studies living organisms and their interactions with one another and their environments. Science attempts to describe and ', 'offsets_in_document': [{'start': 0, 'end': 7}], 'offsets_in_context': [{'start': 0, 'end': 7}], 'document_ids': ['d6659290230e3cad35f25fd7af40139f'], 'meta': {'subject': 'biology', 'topic': 'The Science of Biology'}}>],\n",
       "  [<Answer {'answer': 'rational', 'type': 'extractive', 'score': 0.8733130693435669, 'context': 'cribe and understand the nature of the universe in whole or in part by rational means. Science has many fields. Those fields related to the physical w', 'offsets_in_document': [{'start': 211, 'end': 219}], 'offsets_in_context': [{'start': 71, 'end': 79}], 'document_ids': ['d6659290230e3cad35f25fd7af40139f'], 'meta': {'subject': 'biology', 'topic': 'The Science of Biology'}}>],\n",
       "  [<Answer {'answer': 'Science has many fields', 'type': 'extractive', 'score': 0.32916587591171265, 'context': 'e nature of the universe in whole or in part by rational means. Science has many fields. Those fields related to the physical world and its phenomena ', 'offsets_in_document': [{'start': 227, 'end': 250}], 'offsets_in_context': [{'start': 64, 'end': 87}], 'document_ids': ['d6659290230e3cad35f25fd7af40139f'], 'meta': {'subject': 'biology', 'topic': 'The Science of Biology'}}>]],\n",
       " 'no_ans_gaps': [6.87212610244751, 8.901010990142822, -0.6819915175437927],\n",
       " 'documents': [[<Document: {'content': 'Biology is the science that studies living organisms and their interactions with one another and their environments. Science attempts to describe and understand the nature of the universe in whole or in part by rational means. Science has many fields. Those fields related to the physical world and its phenomena are natural sciences.', 'content_type': 'text', 'score': None, 'meta': {'subject': 'biology', 'topic': 'The Science of Biology'}, 'id_hash_keys': ['content'], 'embedding': None, 'id': 'd6659290230e3cad35f25fd7af40139f'}>],\n",
       "  [<Document: {'content': 'Biology is the science that studies living organisms and their interactions with one another and their environments. Science attempts to describe and understand the nature of the universe in whole or in part by rational means. Science has many fields. Those fields related to the physical world and its phenomena are natural sciences.', 'content_type': 'text', 'score': None, 'meta': {'subject': 'biology', 'topic': 'The Science of Biology'}, 'id_hash_keys': ['content'], 'embedding': None, 'id': 'd6659290230e3cad35f25fd7af40139f'}>],\n",
       "  [<Document: {'content': 'Biology is the science that studies living organisms and their interactions with one another and their environments. Science attempts to describe and understand the nature of the universe in whole or in part by rational means. Science has many fields. Those fields related to the physical world and its phenomena are natural sciences.', 'content_type': 'text', 'score': None, 'meta': {'subject': 'biology', 'topic': 'The Science of Biology'}, 'id_hash_keys': ['content'], 'embedding': None, 'id': 'd6659290230e3cad35f25fd7af40139f'}>]],\n",
       " 'root_node': 'Query',\n",
       " 'params': {},\n",
       " 'node_id': 'Reader'}"
      ]
     },
     "execution_count": 15,
     "metadata": {},
     "output_type": "execute_result"
    }
   ],
   "source": [
    "result"
   ]
  },
  {
   "cell_type": "code",
   "execution_count": 23,
   "metadata": {},
   "outputs": [
    {
     "name": "stdout",
     "output_type": "stream",
     "text": [
      "Biology\n",
      "What is the science that studies living organisms and their interactions with one another and their environments?\n",
      "Biology is the science that studies living organisms and their interactions with one another and their environments. Science attempts to describe and understand the nature of the universe in whole or in part by rational means. Science has many fields. Those fields related to the physical world and its phenomena are natural sciences.\n",
      "--\n",
      "rational\n",
      "Science attempts to describe and understand the nature of the universe in whole or in part by what means?\n",
      "Biology is the science that studies living organisms and their interactions with one another and their environments. Science attempts to describe and understand the nature of the universe in whole or in part by rational means. Science has many fields. Those fields related to the physical world and its phenomena are natural sciences.\n",
      "--\n"
     ]
    },
    {
     "ename": "",
     "evalue": "",
     "output_type": "error",
     "traceback": [
      "\u001b[1;31mThe Kernel crashed while executing code in the the current cell or a previous cell. Please review the code in the cell(s) to identify a possible cause of the failure. Click <a href='https://aka.ms/vscodeJupyterKernelCrash'>here</a> for more info. View Jupyter <a href='command:jupyter.viewOutput'>log</a> for further details."
     ]
    }
   ],
   "source": [
    "for query_content, answer_content, document_content in zip(result['queries'], result['answers'], result['documents']):\n",
    "        answer = answer_content[0]\n",
    "        document = document_content[0]\n",
    "        if answer.score > 0.75:\n",
    "            print(answer.answer)\n",
    "            print(query_content)\n",
    "            print(document.content, end='\\n--\\n')\n",
    "            \n",
    "            #generated_ques.append(query_content)\n",
    "            #generated_ans.append(answer.answer)\n",
    "            #doc_contexts.append(document.content)"
   ]
  },
  {
   "cell_type": "code",
   "execution_count": null,
   "metadata": {},
   "outputs": [],
   "source": [
    "docs = doc_store.get_all_documents()\n",
    "results = pipeline.run(documents=docs)"
   ]
  },
  {
   "cell_type": "code",
   "execution_count": null,
   "metadata": {},
   "outputs": [],
   "source": [
    "generated_ques = []\n",
    "generated_ans = []\n",
    "doc_contexts = []\n",
    "\n",
    "for query_content, answer_content, document_content in zip(results['queries'], results['answers'], results['documents']):\n",
    "    answer = answer_content[0]\n",
    "    document = document_content[0]\n",
    "    if answer.score > 0.75:\n",
    "        generated_ques.append(query_content)\n",
    "        generated_ans.append(answer.answer)\n",
    "        doc_contexts.append(document.content)\n",
    "        #doc_contexts.append(document)\n",
    "        #print(query_content)\n",
    "        #print(answer.answer, answer.score)\n",
    "        #print(document, end='\\n--\\n')"
   ]
  },
  {
   "cell_type": "code",
   "execution_count": null,
   "metadata": {},
   "outputs": [],
   "source": [
    "df_gen_qa = pd.DataFrame(data={'generated_question':generated_ques, 'generated_answer':generated_ans,\n",
    "                               'document_context':doc_contexts})"
   ]
  },
  {
   "cell_type": "code",
   "execution_count": null,
   "metadata": {},
   "outputs": [],
   "source": [
    "df_gen_qa.to_csv(f'data/{topic}_generated_QA.csv', index=False)"
   ]
  },
  {
   "cell_type": "code",
   "execution_count": 12,
   "metadata": {},
   "outputs": [],
   "source": [
    "x = [1,2,3]\n",
    "y = ['a', 'b']"
   ]
  },
  {
   "cell_type": "code",
   "execution_count": 13,
   "metadata": {},
   "outputs": [],
   "source": [
    "x.extend(y)"
   ]
  },
  {
   "cell_type": "code",
   "execution_count": 14,
   "metadata": {},
   "outputs": [
    {
     "name": "stdout",
     "output_type": "stream",
     "text": [
      "[1, 2, 3, 'a', 'b']\n"
     ]
    }
   ],
   "source": [
    "print(x)"
   ]
  },
  {
   "cell_type": "code",
   "execution_count": 15,
   "metadata": {},
   "outputs": [
    {
     "ename": "ValueError",
     "evalue": "invalid literal for int() with base 10: 'd'",
     "output_type": "error",
     "traceback": [
      "\u001b[0;31m---------------------------------------------------------------------------\u001b[0m",
      "\u001b[0;31mValueError\u001b[0m                                Traceback (most recent call last)",
      "Cell \u001b[0;32mIn[15], line 1\u001b[0m\n\u001b[0;32m----> 1\u001b[0m \u001b[39mint\u001b[39;49m(\u001b[39m'\u001b[39;49m\u001b[39md\u001b[39;49m\u001b[39m'\u001b[39;49m)\n",
      "\u001b[0;31mValueError\u001b[0m: invalid literal for int() with base 10: 'd'"
     ]
    }
   ],
   "source": [
    "int('d')"
   ]
  },
  {
   "cell_type": "code",
   "execution_count": null,
   "metadata": {},
   "outputs": [],
   "source": []
  }
 ],
 "metadata": {
  "kernelspec": {
   "display_name": "base",
   "language": "python",
   "name": "python3"
  },
  "language_info": {
   "codemirror_mode": {
    "name": "ipython",
    "version": 3
   },
   "file_extension": ".py",
   "mimetype": "text/x-python",
   "name": "python",
   "nbconvert_exporter": "python",
   "pygments_lexer": "ipython3",
   "version": "3.11.4"
  },
  "orig_nbformat": 4
 },
 "nbformat": 4,
 "nbformat_minor": 2
}
