{
 "cells": [
  {
   "attachments": {},
   "cell_type": "markdown",
   "metadata": {
    "collapsed": true
   },
   "source": [
    "# Question Generation\n",
    "Code taken from https://haystack.deepset.ai/tutorials/13_question_generation"
   ]
  },
  {
   "cell_type": "code",
   "execution_count": 1,
   "metadata": {
    "collapsed": false
   },
   "outputs": [
    {
     "name": "stderr",
     "output_type": "stream",
     "text": [
      "2023-07-28 18:27:53.162872: I tensorflow/core/platform/cpu_feature_guard.cc:182] This TensorFlow binary is optimized to use available CPU instructions in performance-critical operations.\n",
      "To enable the following instructions: AVX2 FMA, in other operations, rebuild TensorFlow with the appropriate compiler flags.\n",
      "2023-07-28 18:27:54.296588: W tensorflow/compiler/tf2tensorrt/utils/py_utils.cc:38] TF-TRT Warning: Could not find TensorRT\n"
     ]
    }
   ],
   "source": [
    "from pprint import pprint\n",
    "from tqdm.auto import tqdm\n",
    "from haystack.nodes import QuestionGenerator, BM25Retriever, FARMReader\n",
    "from haystack.document_stores import ElasticsearchDocumentStore\n",
    "from haystack.pipelines import RetrieverQuestionGenerationPipeline, QuestionAnswerGenerationPipeline\n",
    "from haystack.utils import print_questions"
   ]
  },
  {
   "cell_type": "code",
   "execution_count": null,
   "metadata": {
    "collapsed": false
   },
   "outputs": [],
   "source": [
    "text1 = \"Mendel postulated that genes (characteristics) are inherited as pairs of alleles (traits) that behave in a dominant and recessive pattern. Alleles segregate into gametes such that each gamete is equally likely to receive either one of the two alleles present in a diploid individual. In addition, genes are assorted into gametes independently of one another. That is, alleles are generally not more likely to segregate into a gamete with a particular allele of another gene. A dihybrid cross demonstrates independent assortment when the genes in question are on different chromosomes or distant from each other on the same chromosome. For crosses involving more than two genes, use the forked line or probability methods to predict offspring genotypes and phenotypes rather than a Punnett square.\"\n",
    "docs = [{\"content\": text1}]\n",
    "\n",
    "# Initialize document store and write in the documents\n",
    "document_store = ElasticsearchDocumentStore()\n",
    "# Clear documents from previous runs\n",
    "document_store.delete_documents()\n",
    "# Write documents from current execution\n",
    "document_store.write_documents(docs)\n",
    "# Initialize Question Generator\n",
    "question_generator = QuestionGenerator(split_length=100, split_overlap=20, use_gpu=True)"
   ]
  },
  {
   "cell_type": "markdown",
   "metadata": {},
   "source": [
    "# Question Answer Generation\n",
    "Input: Documents<br>\n",
    "Output: Question, Answers<br>\n",
    "Procedure:\n",
    "- Question generated using `valhalla/t5-base-e2e-qg`. \n",
    "- Answers for the generated question generated using `deepset/roberta-base-squad2`. \n",
    "- Both pretrained model (T5 and RoBERTa base) are finetuned on SQuADv2. "
   ]
  },
  {
   "cell_type": "code",
   "execution_count": 2,
   "metadata": {},
   "outputs": [
    {
     "ename": "NameError",
     "evalue": "name 'question_generator' is not defined",
     "output_type": "error",
     "traceback": [
      "\u001b[0;31m---------------------------------------------------------------------------\u001b[0m",
      "\u001b[0;31mNameError\u001b[0m                                 Traceback (most recent call last)",
      "Cell \u001b[0;32mIn[2], line 2\u001b[0m\n\u001b[1;32m      1\u001b[0m reader \u001b[39m=\u001b[39m FARMReader(\u001b[39m\"\u001b[39m\u001b[39mdeepset/roberta-base-squad2\u001b[39m\u001b[39m\"\u001b[39m, use_gpu\u001b[39m=\u001b[39m\u001b[39mTrue\u001b[39;00m)\n\u001b[0;32m----> 2\u001b[0m qag_pipeline \u001b[39m=\u001b[39m QuestionAnswerGenerationPipeline(question_generator, reader)\n\u001b[1;32m      3\u001b[0m \u001b[39mfor\u001b[39;00m idx, document \u001b[39min\u001b[39;00m \u001b[39menumerate\u001b[39m(tqdm(document_store)):\n\u001b[1;32m      5\u001b[0m     \u001b[39mprint\u001b[39m(\u001b[39mf\u001b[39m\u001b[39m\"\u001b[39m\u001b[39m\\n\u001b[39;00m\u001b[39m * Generating questions and answers for document \u001b[39m\u001b[39m{\u001b[39;00midx\u001b[39m}\u001b[39;00m\u001b[39m: \u001b[39m\u001b[39m{\u001b[39;00mdocument\u001b[39m.\u001b[39mcontent[:\u001b[39m50\u001b[39m]\u001b[39m}\u001b[39;00m\u001b[39m...\u001b[39m\u001b[39m\\n\u001b[39;00m\u001b[39m\"\u001b[39m)\n",
      "\u001b[0;31mNameError\u001b[0m: name 'question_generator' is not defined"
     ]
    }
   ],
   "source": [
    "reader = FARMReader(\"deepset/roberta-base-squad2\", use_gpu=True)\n",
    "qag_pipeline = QuestionAnswerGenerationPipeline(question_generator, reader)\n",
    "for idx, document in enumerate(tqdm(document_store)):\n",
    "\n",
    "    print(f\"\\n * Generating questions and answers for document {idx}: {document.content[:50]}...\\n\")\n",
    "    result = qag_pipeline.run(documents=[document])\n",
    "    print_questions(result)"
   ]
  },
  {
   "attachments": {},
   "cell_type": "markdown",
   "metadata": {
    "collapsed": false
   },
   "source": [
    "# Retriever Question Generation Pipeline\n",
    "Input: Document, Query<br>\n",
    "Output: QA Pairs from documents belonging to the query<br>\n",
    "Procedure:\n",
    "- Filter documents using BM25, TF-IDF, Embedding based retriever.\n",
    "- Generate QA pairs on the filtered documents.\n"
   ]
  },
  {
   "cell_type": "code",
   "execution_count": null,
   "metadata": {
    "collapsed": false
   },
   "outputs": [],
   "source": [
    "retriever = BM25Retriever(document_store=document_store)\n",
    "rqg_pipeline = RetrieverQuestionGenerationPipeline(retriever, question_generator)\n",
    "\n",
    "print(f\"\\n * Generating questions for documents matching the query 'Arya Stark'\\n\")\n",
    "result = rqg_pipeline.run(query=\"Arya Stark\")\n",
    "print_questions(result)"
   ]
  }
 ],
 "metadata": {
  "kernelspec": {
   "display_name": "Python 3",
   "language": "python",
   "name": "python3"
  },
  "language_info": {
   "codemirror_mode": {
    "name": "ipython",
    "version": 3
   },
   "file_extension": ".py",
   "mimetype": "text/x-python",
   "name": "python",
   "nbconvert_exporter": "python",
   "pygments_lexer": "ipython3",
   "version": "3.11.4"
  }
 },
 "nbformat": 4,
 "nbformat_minor": 2
}
