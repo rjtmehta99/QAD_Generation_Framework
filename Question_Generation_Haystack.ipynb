{
 "cells": [
  {
   "attachments": {},
   "cell_type": "markdown",
   "metadata": {
    "collapsed": true
   },
   "source": [
    "# Question Generation\n",
    "Code taken from https://haystack.deepset.ai/tutorials/13_question_generation"
   ]
  },
  {
   "cell_type": "code",
   "execution_count": 1,
   "metadata": {
    "collapsed": false
   },
   "outputs": [
    {
     "name": "stderr",
     "output_type": "stream",
     "text": [
      "2023-09-26 15:20:40.479708: I tensorflow/core/platform/cpu_feature_guard.cc:182] This TensorFlow binary is optimized to use available CPU instructions in performance-critical operations.\n",
      "To enable the following instructions: AVX2 FMA, in other operations, rebuild TensorFlow with the appropriate compiler flags.\n",
      "2023-09-26 15:20:41.625354: W tensorflow/compiler/tf2tensorrt/utils/py_utils.cc:38] TF-TRT Warning: Could not find TensorRT\n"
     ]
    }
   ],
   "source": [
    "from pprint import pprint\n",
    "from tqdm.auto import tqdm\n",
    "from haystack.nodes import QuestionGenerator, BM25Retriever, FARMReader\n",
    "from haystack.document_stores import ElasticsearchDocumentStore\n",
    "from haystack.pipelines import RetrieverQuestionGenerationPipeline, QuestionAnswerGenerationPipeline\n",
    "from haystack.utils import print_questions"
   ]
  },
  {
   "cell_type": "code",
   "execution_count": 2,
   "metadata": {
    "collapsed": false
   },
   "outputs": [
    {
     "name": "stderr",
     "output_type": "stream",
     "text": [
      "/home/rjt/miniconda3/lib/python3.11/site-packages/torch/_utils.py:776: UserWarning: TypedStorage is deprecated. It will be removed in the future and UntypedStorage will be the only storage class. This should only matter to you if you are using storages directly.  To access UntypedStorage directly, use tensor.untyped_storage() instead of tensor.storage()\n",
      "  return self.fget.__get__(instance, owner)()\n",
      "You are using the legacy behaviour of the <class 'transformers.models.t5.tokenization_t5.T5Tokenizer'>. This means that tokens that come after special tokens will not be properly handled. We recommend you to read the related pull request available at https://github.com/huggingface/transformers/pull/24565\n",
      "Using sep_token, but it is not set yet.\n"
     ]
    }
   ],
   "source": [
    "text1 = \"Mendel postulated that genes (characteristics) are inherited as pairs of alleles (traits) that behave in a dominant and recessive pattern. Alleles segregate into gametes such that each gamete is equally likely to receive either one of the two alleles present in a diploid individual. In addition, genes are assorted into gametes independently of one another. That is, alleles are generally not more likely to segregate into a gamete with a particular allele of another gene. A dihybrid cross demonstrates independent assortment when the genes in question are on different chromosomes or distant from each other on the same chromosome. For crosses involving more than two genes, use the forked line or probability methods to predict offspring genotypes and phenotypes rather than a Punnett square.\"\n",
    "text2 = \"A chemical equation shows the reactants and the products of a chemical reaction. Balancing chemical equations is necessary because the same atoms should be present before and after the reaction, just in different arrangements. A balanced chemical equation is useful in showing us the ratios of reactants and products\"\n",
    "docs = [{\"content\": text1}, {\"content\": text2}]\n",
    "\n",
    "# Initialize document store and write in the documents\n",
    "document_store = ElasticsearchDocumentStore()\n",
    "# Clear documents from previous runs\n",
    "document_store.delete_documents()\n",
    "# Write documents from current execution\n",
    "document_store.write_documents(docs)\n",
    "# Initialize Question Generator\n",
    "question_generator = QuestionGenerator(split_length=100, split_overlap=20, use_gpu=True)"
   ]
  },
  {
   "cell_type": "markdown",
   "metadata": {},
   "source": [
    "# Question Answer Generation\n",
    "Input: Documents<br>\n",
    "Output: Question, Answers<br>\n",
    "Procedure:\n",
    "- Question generated using `valhalla/t5-base-e2e-qg`. \n",
    "- Answers for the generated question generated using `deepset/roberta-base-squad2`. \n",
    "- Both pretrained model (T5 and RoBERTa base) are finetuned on SQuADv2. "
   ]
  },
  {
   "cell_type": "code",
   "execution_count": null,
   "metadata": {},
   "outputs": [],
   "source": []
  },
  {
   "cell_type": "code",
   "execution_count": null,
   "metadata": {},
   "outputs": [],
   "source": [
    "reader = FARMReader(\"deepset/roberta-base-squad2\", use_gpu=True)\n",
    "qag_pipeline = QuestionAnswerGenerationPipeline(question_generator, reader)\n",
    "for idx, document in enumerate(tqdm(document_store)):\n",
    "\n",
    "    print(f\"\\n * Generating questions and answers for document {idx}: {document.content[:50]}...\\n\")\n",
    "    result = qag_pipeline.run(documents=[document])\n",
    "    print_questions(result)"
   ]
  },
  {
   "attachments": {},
   "cell_type": "markdown",
   "metadata": {
    "collapsed": false
   },
   "source": [
    "# Retriever Question Generation Pipeline\n",
    "Input: Document, Query<br>\n",
    "Output: QA Pairs from documents belonging to the query<br>\n",
    "Procedure:\n",
    "- Filter documents using BM25, TF-IDF, Embedding based retriever.\n",
    "- Generate QA pairs on the filtered documents.\n"
   ]
  },
  {
   "cell_type": "code",
   "execution_count": null,
   "metadata": {
    "collapsed": false
   },
   "outputs": [],
   "source": [
    "retriever = BM25Retriever(document_store=document_store)\n",
    "rqg_pipeline = RetrieverQuestionGenerationPipeline(retriever, question_generator)\n",
    "\n",
    "print(f\"\\n * Generating questions for documents matching the query 'Arya Stark'\\n\")\n",
    "result = rqg_pipeline.run(query=\"genes\")\n",
    "result"
   ]
  },
  {
   "cell_type": "code",
   "execution_count": 3,
   "metadata": {},
   "outputs": [],
   "source": [
    "reader = FARMReader(\"deepset/deberta-v3-large-squad2\", use_gpu=True)"
   ]
  },
  {
   "cell_type": "code",
   "execution_count": null,
   "metadata": {},
   "outputs": [],
   "source": [
    "#reader = FARMReader(\"deepset/deberta-v3-base-squad2\", use_gpu=True)"
   ]
  },
  {
   "cell_type": "code",
   "execution_count": 4,
   "metadata": {},
   "outputs": [
    {
     "name": "stderr",
     "output_type": "stream",
     "text": [
      "Using sep_token, but it is not set yet.\n"
     ]
    }
   ],
   "source": [
    "question_generator = QuestionGenerator(split_length=100, split_overlap=20, use_gpu=True)\n",
    "retriever = BM25Retriever(document_store=document_store)"
   ]
  },
  {
   "cell_type": "code",
   "execution_count": null,
   "metadata": {},
   "outputs": [],
   "source": [
    "from haystack import Pipeline\n",
    "\n",
    "p = Pipeline()\n",
    "p.add_node(component=retriever, name=\"BM25Retriever\", inputs=[\"Query\"])\n",
    "p.add_node(component=question_generator, name=\"QGenerator\", inputs=[\"BM25Retriever\"])\n",
    "p.add_node(component=reader, name='Reader', inputs=[\"QGenerator\"])\n",
    "res = p.run(query=\"genes\")"
   ]
  },
  {
   "cell_type": "code",
   "execution_count": 5,
   "metadata": {},
   "outputs": [],
   "source": [
    "docs=retriever.retrieve(\"genes\")"
   ]
  },
  {
   "cell_type": "code",
   "execution_count": 11,
   "metadata": {},
   "outputs": [],
   "source": [
    "from haystack.pipelines import QuestionAnswerGenerationPipeline\n",
    "pipeline = QuestionAnswerGenerationPipeline(question_generator, reader)"
   ]
  },
  {
   "cell_type": "code",
   "execution_count": null,
   "metadata": {},
   "outputs": [],
   "source": [
    "pipeline."
   ]
  },
  {
   "cell_type": "code",
   "execution_count": 14,
   "metadata": {},
   "outputs": [
    {
     "data": {
      "text/plain": [
       "[<Document: {'content': 'Mendel postulated that genes (characteristics) are inherited as pairs of alleles (traits) that behave in a dominant and recessive pattern. Alleles segregate into gametes such that each gamete is equally likely to receive either one of the two alleles present in a diploid individual. In addition, genes are assorted into gametes independently of one another. That is, alleles are generally not more likely to segregate into a gamete with a particular allele of another gene. A dihybrid cross demonstrates independent assortment when the genes in question are on different chromosomes or distant from each other on the same chromosome. For crosses involving more than two genes, use the forked line or probability methods to predict offspring genotypes and phenotypes rather than a Punnett square.', 'content_type': 'text', 'score': 0.5343001172019939, 'meta': {}, 'id_hash_keys': ['content'], 'embedding': None, 'id': '23a9177c84ad0781b4e65fe4e523a91c'}>]"
      ]
     },
     "execution_count": 14,
     "metadata": {},
     "output_type": "execute_result"
    }
   ],
   "source": [
    "docs"
   ]
  },
  {
   "cell_type": "code",
   "execution_count": 15,
   "metadata": {},
   "outputs": [
    {
     "name": "stderr",
     "output_type": "stream",
     "text": [
      "Inferencing Samples: 100%|██████████| 1/1 [00:06<00:00,  6.06s/ Batches]\n"
     ]
    }
   ],
   "source": [
    "results = pipeline.run(documents=docs)"
   ]
  },
  {
   "cell_type": "code",
   "execution_count": 17,
   "metadata": {},
   "outputs": [
    {
     "data": {
      "text/plain": [
       "{'queries': ['Mendel postulated that genes are inherited as pairs of alleles that behave in what pattern?',\n",
       "  'Alleles segregate into what?',\n",
       "  'Genes are assorted into what independently of one another?',\n",
       "  'A dihybrid cross demonstrates independent assortment when the genes in question are on what chromosomes?',\n",
       "  'What is assortment when the genes in question are on different chromosomes or distant from each other?',\n",
       "  'For crosses involving more than two genes, use the forked line or probability methods to predict offspring genotypes and what else?'],\n",
       " 'answers': [[<Answer {'answer': 'dominant and recessive', 'type': 'extractive', 'score': 0.7278926968574524, 'context': 'cs) are inherited as pairs of alleles (traits) that behave in a dominant and recessive pattern. Alleles segregate into gametes such that each gamete i', 'offsets_in_document': [{'start': 107, 'end': 129}], 'offsets_in_context': [{'start': 64, 'end': 86}], 'document_ids': ['23a9177c84ad0781b4e65fe4e523a91c'], 'meta': {}}>],\n",
       "  [<Answer {'answer': 'gametes', 'type': 'extractive', 'score': 0.9946974515914917, 'context': 'that behave in a dominant and recessive pattern. Alleles segregate into gametes such that each gamete is equally likely to receive either one of the t', 'offsets_in_document': [{'start': 162, 'end': 169}], 'offsets_in_context': [{'start': 72, 'end': 79}], 'document_ids': ['23a9177c84ad0781b4e65fe4e523a91c'], 'meta': {}}>],\n",
       "  [<Answer {'answer': 'gametes', 'type': 'extractive', 'score': 0.8862000107765198, 'context': 's present in a diploid individual. In addition, genes are assorted into gametes independently of one another. That is, alleles are generally not more ', 'offsets_in_document': [{'start': 321, 'end': 328}], 'offsets_in_context': [{'start': 72, 'end': 79}], 'document_ids': ['23a9177c84ad0781b4e65fe4e523a91c'], 'meta': {}}>],\n",
       "  [<Answer {'answer': 'different chromosomes', 'type': 'extractive', 'score': 0.768409013748169, 'context': 'strates independent assortment when the genes in question are on different chromosomes or distant from each other on the same chromosome. For crosses ', 'offsets_in_document': [{'start': 562, 'end': 583}], 'offsets_in_context': [{'start': 65, 'end': 86}], 'document_ids': ['23a9177c84ad0781b4e65fe4e523a91c'], 'meta': {}}>],\n",
       "  [<Answer {'answer': 'independent', 'type': 'extractive', 'score': 0.5395295023918152, 'context': 'th a particular allele of another gene. A dihybrid cross demonstrates independent assortment when the genes in question are on different chromosomes o', 'offsets_in_document': [{'start': 505, 'end': 516}], 'offsets_in_context': [{'start': 70, 'end': 81}], 'document_ids': ['23a9177c84ad0781b4e65fe4e523a91c'], 'meta': {}}>],\n",
       "  [<Answer {'answer': 'phenotypes', 'type': 'extractive', 'score': 0.9995484352111816, 'context': ' involving more than two genes, use the forked line or probability methods to predict offspring genotypes and phenotypes rather than a Punnett square.', 'offsets_in_document': [{'start': 756, 'end': 766}], 'offsets_in_context': [{'start': 110, 'end': 120}], 'document_ids': ['23a9177c84ad0781b4e65fe4e523a91c'], 'meta': {}}>]],\n",
       " 'no_ans_gaps': [14.597961664199829,\n",
       "  17.1458101272583,\n",
       "  18.167644321918488,\n",
       "  13.008791208267212,\n",
       "  4.9742584228515625,\n",
       "  19.04629361629486],\n",
       " 'documents': [[<Document: {'content': 'Mendel postulated that genes (characteristics) are inherited as pairs of alleles (traits) that behave in a dominant and recessive pattern. Alleles segregate into gametes such that each gamete is equally likely to receive either one of the two alleles present in a diploid individual. In addition, genes are assorted into gametes independently of one another. That is, alleles are generally not more likely to segregate into a gamete with a particular allele of another gene. A dihybrid cross demonstrates independent assortment when the genes in question are on different chromosomes or distant from each other on the same chromosome. For crosses involving more than two genes, use the forked line or probability methods to predict offspring genotypes and phenotypes rather than a Punnett square.', 'content_type': 'text', 'score': 0.5343001172019939, 'meta': {}, 'id_hash_keys': ['content'], 'embedding': None, 'id': '23a9177c84ad0781b4e65fe4e523a91c'}>],\n",
       "  [<Document: {'content': 'Mendel postulated that genes (characteristics) are inherited as pairs of alleles (traits) that behave in a dominant and recessive pattern. Alleles segregate into gametes such that each gamete is equally likely to receive either one of the two alleles present in a diploid individual. In addition, genes are assorted into gametes independently of one another. That is, alleles are generally not more likely to segregate into a gamete with a particular allele of another gene. A dihybrid cross demonstrates independent assortment when the genes in question are on different chromosomes or distant from each other on the same chromosome. For crosses involving more than two genes, use the forked line or probability methods to predict offspring genotypes and phenotypes rather than a Punnett square.', 'content_type': 'text', 'score': 0.5343001172019939, 'meta': {}, 'id_hash_keys': ['content'], 'embedding': None, 'id': '23a9177c84ad0781b4e65fe4e523a91c'}>],\n",
       "  [<Document: {'content': 'Mendel postulated that genes (characteristics) are inherited as pairs of alleles (traits) that behave in a dominant and recessive pattern. Alleles segregate into gametes such that each gamete is equally likely to receive either one of the two alleles present in a diploid individual. In addition, genes are assorted into gametes independently of one another. That is, alleles are generally not more likely to segregate into a gamete with a particular allele of another gene. A dihybrid cross demonstrates independent assortment when the genes in question are on different chromosomes or distant from each other on the same chromosome. For crosses involving more than two genes, use the forked line or probability methods to predict offspring genotypes and phenotypes rather than a Punnett square.', 'content_type': 'text', 'score': 0.5343001172019939, 'meta': {}, 'id_hash_keys': ['content'], 'embedding': None, 'id': '23a9177c84ad0781b4e65fe4e523a91c'}>],\n",
       "  [<Document: {'content': 'Mendel postulated that genes (characteristics) are inherited as pairs of alleles (traits) that behave in a dominant and recessive pattern. Alleles segregate into gametes such that each gamete is equally likely to receive either one of the two alleles present in a diploid individual. In addition, genes are assorted into gametes independently of one another. That is, alleles are generally not more likely to segregate into a gamete with a particular allele of another gene. A dihybrid cross demonstrates independent assortment when the genes in question are on different chromosomes or distant from each other on the same chromosome. For crosses involving more than two genes, use the forked line or probability methods to predict offspring genotypes and phenotypes rather than a Punnett square.', 'content_type': 'text', 'score': 0.5343001172019939, 'meta': {}, 'id_hash_keys': ['content'], 'embedding': None, 'id': '23a9177c84ad0781b4e65fe4e523a91c'}>],\n",
       "  [<Document: {'content': 'Mendel postulated that genes (characteristics) are inherited as pairs of alleles (traits) that behave in a dominant and recessive pattern. Alleles segregate into gametes such that each gamete is equally likely to receive either one of the two alleles present in a diploid individual. In addition, genes are assorted into gametes independently of one another. That is, alleles are generally not more likely to segregate into a gamete with a particular allele of another gene. A dihybrid cross demonstrates independent assortment when the genes in question are on different chromosomes or distant from each other on the same chromosome. For crosses involving more than two genes, use the forked line or probability methods to predict offspring genotypes and phenotypes rather than a Punnett square.', 'content_type': 'text', 'score': 0.5343001172019939, 'meta': {}, 'id_hash_keys': ['content'], 'embedding': None, 'id': '23a9177c84ad0781b4e65fe4e523a91c'}>],\n",
       "  [<Document: {'content': 'Mendel postulated that genes (characteristics) are inherited as pairs of alleles (traits) that behave in a dominant and recessive pattern. Alleles segregate into gametes such that each gamete is equally likely to receive either one of the two alleles present in a diploid individual. In addition, genes are assorted into gametes independently of one another. That is, alleles are generally not more likely to segregate into a gamete with a particular allele of another gene. A dihybrid cross demonstrates independent assortment when the genes in question are on different chromosomes or distant from each other on the same chromosome. For crosses involving more than two genes, use the forked line or probability methods to predict offspring genotypes and phenotypes rather than a Punnett square.', 'content_type': 'text', 'score': 0.5343001172019939, 'meta': {}, 'id_hash_keys': ['content'], 'embedding': None, 'id': '23a9177c84ad0781b4e65fe4e523a91c'}>]],\n",
       " 'root_node': 'Query',\n",
       " 'params': {},\n",
       " 'node_id': 'Reader'}"
      ]
     },
     "execution_count": 17,
     "metadata": {},
     "output_type": "execute_result"
    }
   ],
   "source": [
    "results"
   ]
  },
  {
   "cell_type": "code",
   "execution_count": 10,
   "metadata": {},
   "outputs": [
    {
     "name": "stdout",
     "output_type": "stream",
     "text": [
      "Mendel postulated that genes are inherited as pairs of alleles that behave in what pattern?\n"
     ]
    },
    {
     "name": "stderr",
     "output_type": "stream",
     "text": [
      "Inferencing Samples: 100%|██████████| 1/1 [00:00<00:00,  1.25 Batches/s]\n"
     ]
    },
    {
     "name": "stdout",
     "output_type": "stream",
     "text": [
      "{'query': 'Mendel postulated that genes are inherited as pairs of alleles that behave in what pattern?', 'no_ans_gap': 14.597965002059937, 'answers': [<Answer {'answer': 'dominant and recessive', 'type': 'extractive', 'score': 0.7278921604156494, 'context': 'cs) are inherited as pairs of alleles (traits) that behave in a dominant and recessive pattern. Alleles segregate into gametes such that each gamete i', 'offsets_in_document': [{'start': 107, 'end': 129}], 'offsets_in_context': [{'start': 64, 'end': 86}], 'document_ids': ['23a9177c84ad0781b4e65fe4e523a91c'], 'meta': {}}>]}\n",
      "--\n",
      "Alleles segregate into what?\n"
     ]
    },
    {
     "name": "stderr",
     "output_type": "stream",
     "text": [
      "Inferencing Samples: 100%|██████████| 1/1 [00:00<00:00,  1.33 Batches/s]\n"
     ]
    },
    {
     "name": "stdout",
     "output_type": "stream",
     "text": [
      "{'query': 'Alleles segregate into what?', 'no_ans_gap': 17.14580476284027, 'answers': [<Answer {'answer': 'gametes', 'type': 'extractive', 'score': 0.9946974515914917, 'context': 'that behave in a dominant and recessive pattern. Alleles segregate into gametes such that each gamete is equally likely to receive either one of the t', 'offsets_in_document': [{'start': 162, 'end': 169}], 'offsets_in_context': [{'start': 72, 'end': 79}], 'document_ids': ['23a9177c84ad0781b4e65fe4e523a91c'], 'meta': {}}>]}\n",
      "--\n",
      "Genes are assorted into what independently of one another?\n"
     ]
    },
    {
     "name": "stderr",
     "output_type": "stream",
     "text": [
      "Inferencing Samples: 100%|██████████| 1/1 [00:00<00:00,  1.33 Batches/s]\n"
     ]
    },
    {
     "name": "stdout",
     "output_type": "stream",
     "text": [
      "{'query': 'Genes are assorted into what independently of one another?', 'no_ans_gap': 18.16763973236084, 'answers': [<Answer {'answer': 'gametes', 'type': 'extractive', 'score': 0.886199951171875, 'context': 's present in a diploid individual. In addition, genes are assorted into gametes independently of one another. That is, alleles are generally not more ', 'offsets_in_document': [{'start': 321, 'end': 328}], 'offsets_in_context': [{'start': 72, 'end': 79}], 'document_ids': ['23a9177c84ad0781b4e65fe4e523a91c'], 'meta': {}}>]}\n",
      "--\n",
      "A dihybrid cross demonstrates independent assortment when the genes in question are on what chromosomes?\n"
     ]
    },
    {
     "name": "stderr",
     "output_type": "stream",
     "text": [
      "Inferencing Samples: 100%|██████████| 1/1 [00:00<00:00,  1.33 Batches/s]\n"
     ]
    },
    {
     "name": "stdout",
     "output_type": "stream",
     "text": [
      "{'query': 'A dihybrid cross demonstrates independent assortment when the genes in question are on what chromosomes?', 'no_ans_gap': 13.008788824081421, 'answers': [<Answer {'answer': 'different chromosomes', 'type': 'extractive', 'score': 0.7684093713760376, 'context': 'strates independent assortment when the genes in question are on different chromosomes or distant from each other on the same chromosome. For crosses ', 'offsets_in_document': [{'start': 562, 'end': 583}], 'offsets_in_context': [{'start': 65, 'end': 86}], 'document_ids': ['23a9177c84ad0781b4e65fe4e523a91c'], 'meta': {}}>]}\n",
      "--\n",
      "What is assortment when the genes in question are on different chromosomes or distant from each other?\n"
     ]
    },
    {
     "name": "stderr",
     "output_type": "stream",
     "text": [
      "Inferencing Samples: 100%|██████████| 1/1 [00:00<00:00,  1.33 Batches/s]\n"
     ]
    },
    {
     "name": "stdout",
     "output_type": "stream",
     "text": [
      "{'query': 'What is assortment when the genes in question are on different chromosomes or distant from each other?', 'no_ans_gap': 4.974249839782715, 'answers': [<Answer {'answer': 'independent', 'type': 'extractive', 'score': 0.5395277738571167, 'context': 'th a particular allele of another gene. A dihybrid cross demonstrates independent assortment when the genes in question are on different chromosomes o', 'offsets_in_document': [{'start': 505, 'end': 516}], 'offsets_in_context': [{'start': 70, 'end': 81}], 'document_ids': ['23a9177c84ad0781b4e65fe4e523a91c'], 'meta': {}}>]}\n",
      "--\n",
      "For crosses involving more than two genes, use the forked line or probability methods to predict offspring genotypes and what else?\n"
     ]
    },
    {
     "name": "stderr",
     "output_type": "stream",
     "text": [
      "Inferencing Samples: 100%|██████████| 1/1 [00:00<00:00,  1.32 Batches/s]"
     ]
    },
    {
     "name": "stdout",
     "output_type": "stream",
     "text": [
      "{'query': 'For crosses involving more than two genes, use the forked line or probability methods to predict offspring genotypes and what else?', 'no_ans_gap': 19.046285390853882, 'answers': [<Answer {'answer': 'phenotypes', 'type': 'extractive', 'score': 0.9995484352111816, 'context': ' involving more than two genes, use the forked line or probability methods to predict offspring genotypes and phenotypes rather than a Punnett square.', 'offsets_in_document': [{'start': 756, 'end': 766}], 'offsets_in_context': [{'start': 110, 'end': 120}], 'document_ids': ['23a9177c84ad0781b4e65fe4e523a91c'], 'meta': {}}>]}\n",
      "--\n"
     ]
    },
    {
     "name": "stderr",
     "output_type": "stream",
     "text": [
      "\n"
     ]
    }
   ],
   "source": [
    "for doc in docs:\n",
    "    questions = question_generator.generate(doc.content)\n",
    "    for question in questions:\n",
    "        print(question)\n",
    "        print(reader.predict(query=question, documents=[doc]), end='\\n--\\n')\n",
    "        "
   ]
  },
  {
   "cell_type": "code",
   "execution_count": null,
   "metadata": {},
   "outputs": [],
   "source": [
    "for doc in docs:\n",
    "  questions = question_generator.generate(doc.content)\n",
    "  print(questions)\n",
    "  for q in questions:\n",
    "    print(reader.predict(query=q, documents=[doc]).answers)"
   ]
  }
 ],
 "metadata": {
  "kernelspec": {
   "display_name": "Python 3",
   "language": "python",
   "name": "python3"
  },
  "language_info": {
   "codemirror_mode": {
    "name": "ipython",
    "version": 3
   },
   "file_extension": ".py",
   "mimetype": "text/x-python",
   "name": "python",
   "nbconvert_exporter": "python",
   "pygments_lexer": "ipython3",
   "version": "3.11.4"
  }
 },
 "nbformat": 4,
 "nbformat_minor": 2
}
