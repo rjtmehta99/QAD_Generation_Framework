{
 "cells": [
  {
   "cell_type": "code",
   "execution_count": 13,
   "metadata": {},
   "outputs": [],
   "source": [
    "import pandas as pd\n",
    "from ast import literal_eval\n",
    "import pigeonXT as pixt"
   ]
  },
  {
   "cell_type": "code",
   "execution_count": 34,
   "metadata": {},
   "outputs": [],
   "source": [
    "df1 = pd.read_csv('data/khanacademy_biology_v2.csv')\n",
    "df2 = pd.read_csv('data/khanacademy_middle_school_ngss_v2.csv')\n",
    "df3 = pd.read_csv('data/khanacademy_ap_biology_v2.csv')\n",
    "df4 = pd.read_csv('data/khanacademy_high_school_v2.csv')\n",
    "df5 = pd.read_csv('data/khanacademy_high_school_ngss_v2.csv')\n",
    "df_merged = pd.concat([df1, df2, df3, df4, df5], ignore_index=True)\n",
    "df_merged['len'] = df_merged['possible_answer'].apply(lambda x: len(x))\n",
    "df_merged = df_merged[df_merged['len'] > 0]"
   ]
  },
  {
   "cell_type": "code",
   "execution_count": 35,
   "metadata": {},
   "outputs": [
    {
     "data": {
      "text/plain": [
       "\"['a predatory interaction in which the jellyfish are the predators and the shrimp are the prey;', 'a competitive interaction in which the shrimp out-compete the jellyfish for food;', 'a mutualistic interaction in which the jellyfish and shrimp help each other survive;']\""
      ]
     },
     "execution_count": 35,
     "metadata": {},
     "output_type": "execute_result"
    }
   ],
   "source": [
    "df_merged.iloc[0]['possible_answer']"
   ]
  },
  {
   "cell_type": "code",
   "execution_count": 36,
   "metadata": {},
   "outputs": [],
   "source": [
    "df_merged['example'] = '<b>' + df_merged['questions'] +'</b><br>'+ df_merged['possible_answer'] + '<br>' + df_merged['correct_answer']"
   ]
  },
  {
   "cell_type": "code",
   "execution_count": 37,
   "metadata": {},
   "outputs": [
    {
     "data": {
      "application/vnd.jupyter.widget-view+json": {
       "model_id": "ea532544b6d749168f192f1c95753d34",
       "version_major": 2,
       "version_minor": 0
      },
      "text/plain": [
       "HTML(value='0 of 126 Examples annotated, Current Position: 0 ')"
      ]
     },
     "metadata": {},
     "output_type": "display_data"
    },
    {
     "data": {
      "application/vnd.jupyter.widget-view+json": {
       "model_id": "5d03236319de4748ba9ccb7cfe72419c",
       "version_major": 2,
       "version_minor": 0
      },
      "text/plain": [
       "VBox(children=(HBox(children=(Button(description='good_question', style=ButtonStyle()), Button(description='un…"
      ]
     },
     "metadata": {},
     "output_type": "display_data"
    },
    {
     "data": {
      "application/vnd.jupyter.widget-view+json": {
       "model_id": "f5319fe07354444fad311cabbd736609",
       "version_major": 2,
       "version_minor": 0
      },
      "text/plain": [
       "Output()"
      ]
     },
     "metadata": {},
     "output_type": "display_data"
    },
    {
     "name": "stdout",
     "output_type": "stream",
     "text": [
      "Annotation done.\n"
     ]
    }
   ],
   "source": [
    "annotations = pixt.annotate(df_merged, options=['good_question', 'unusable_question'],\n",
    "                            task_type='classification', value_column='label',\n",
    "                            buttons_in_a_row=2, include_back=True, include_next=True, checkerboard=False)"
   ]
  },
  {
   "cell_type": "code",
   "execution_count": 38,
   "metadata": {},
   "outputs": [],
   "source": [
    "annotations.to_csv('annotated_khanacademy_v2.csv', index=False)"
   ]
  }
 ],
 "metadata": {
  "kernelspec": {
   "display_name": "Python 3",
   "language": "python",
   "name": "python3"
  },
  "language_info": {
   "codemirror_mode": {
    "name": "ipython",
    "version": 3
   },
   "file_extension": ".py",
   "mimetype": "text/x-python",
   "name": "python",
   "nbconvert_exporter": "python",
   "pygments_lexer": "ipython3",
   "version": "3.8.7"
  }
 },
 "nbformat": 4,
 "nbformat_minor": 2
}
